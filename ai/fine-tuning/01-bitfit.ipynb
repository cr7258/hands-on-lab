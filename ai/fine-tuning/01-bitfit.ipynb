{
  "cells": [
    {
      "cell_type": "markdown",
      "metadata": {
        "id": "view-in-github",
        "colab_type": "text"
      },
      "source": [
        "<a href=\"https://colab.research.google.com/github/cr7258/hands-on-lab/blob/main/ai/fine-tuning/01-bitfit.ipynb\" target=\"_parent\"><img src=\"https://colab.research.google.com/assets/colab-badge.svg\" alt=\"Open In Colab\"/></a>"
      ]
    },
    {
      "cell_type": "markdown",
      "id": "69f2ae25-252e-460e-8238-6dde5d988186",
      "metadata": {
        "id": "69f2ae25-252e-460e-8238-6dde5d988186"
      },
      "source": [
        "# Step0 导入相关模块"
      ]
    },
    {
      "cell_type": "code",
      "source": [
        "!pip install datasets transformers"
      ],
      "metadata": {
        "id": "-hzlrycwoH26"
      },
      "id": "-hzlrycwoH26",
      "execution_count": null,
      "outputs": []
    },
    {
      "cell_type": "code",
      "execution_count": 2,
      "id": "f81233df-ef32-4cb9-82c3-3ca0ad961b23",
      "metadata": {
        "id": "f81233df-ef32-4cb9-82c3-3ca0ad961b23"
      },
      "outputs": [],
      "source": [
        "from datasets import load_dataset\n",
        "from transformers import AutoTokenizer, AutoModelForCausalLM, DataCollatorForSeq2Seq, TrainingArguments, Trainer"
      ]
    },
    {
      "cell_type": "code",
      "execution_count": 3,
      "id": "6dc0c3c3-4bf3-4bb0-8668-606b42cbd819",
      "metadata": {
        "colab": {
          "base_uri": "https://localhost:8080/",
          "height": 35
        },
        "id": "6dc0c3c3-4bf3-4bb0-8668-606b42cbd819",
        "outputId": "a6521d8f-94d5-443d-c107-f17f1e421f50"
      },
      "outputs": [
        {
          "output_type": "execute_result",
          "data": {
            "text/plain": [
              "'3.5.0'"
            ],
            "application/vnd.google.colaboratory.intrinsic+json": {
              "type": "string"
            }
          },
          "metadata": {},
          "execution_count": 3
        }
      ],
      "source": [
        "import datasets\n",
        "datasets.__version__"
      ]
    },
    {
      "cell_type": "code",
      "execution_count": 4,
      "id": "fb6b7ab6-1a73-417b-aa62-40f3e022c80f",
      "metadata": {
        "colab": {
          "base_uri": "https://localhost:8080/",
          "height": 35
        },
        "id": "fb6b7ab6-1a73-417b-aa62-40f3e022c80f",
        "outputId": "875b11ff-b386-4d1c-faa7-85a4a9ac2f5f"
      },
      "outputs": [
        {
          "output_type": "execute_result",
          "data": {
            "text/plain": [
              "'4.51.3'"
            ],
            "application/vnd.google.colaboratory.intrinsic+json": {
              "type": "string"
            }
          },
          "metadata": {},
          "execution_count": 4
        }
      ],
      "source": [
        "import transformers\n",
        "transformers.__version__"
      ]
    },
    {
      "cell_type": "code",
      "execution_count": 5,
      "id": "4e390aa5-051b-41fc-a9e3-f978275f50c1",
      "metadata": {
        "id": "4e390aa5-051b-41fc-a9e3-f978275f50c1"
      },
      "outputs": [],
      "source": [
        "import warnings\n",
        "warnings.filterwarnings('ignore')"
      ]
    },
    {
      "cell_type": "markdown",
      "source": [
        "# Step1 查看模型训练前的推理效果"
      ],
      "metadata": {
        "id": "lEM6ELvg8ceH"
      },
      "id": "lEM6ELvg8ceH"
    },
    {
      "cell_type": "code",
      "source": [
        "# 加载 Langboat 中文 Bloom 模型和分词器\n",
        "model_name = \"Langboat/bloom-1b4-zh\"\n",
        "tokenizer = AutoTokenizer.from_pretrained(model_name)\n",
        "model = AutoModelForCausalLM.from_pretrained(model_name)\n",
        "\n",
        "# 构造输入\n",
        "prompt = \"Human: 三原色是什么？\\n\\nAssistant:\"\n",
        "inputs = tokenizer(prompt, return_tensors=\"pt\")\n",
        "\n",
        "# 可选：使用 GPU\n",
        "model = model.to(\"cuda\")\n",
        "inputs = {k: v.to(\"cuda\") for k, v in inputs.items()}\n",
        "\n",
        "# 推理生成\n",
        "output = model.generate(\n",
        "    **inputs,\n",
        "    max_new_tokens=100,\n",
        "    do_sample=True,\n",
        "    temperature=0.7,\n",
        "    top_p=0.9,\n",
        "    pad_token_id=tokenizer.eos_token_id\n",
        ")\n",
        "\n",
        "# 解码输出\n",
        "tokenizer.decode(output[0], skip_special_tokens=True)\n"
      ],
      "metadata": {
        "id": "oCOdoncI8zSl",
        "outputId": "eeaabcb0-4915-47ac-d81f-c16773974935",
        "colab": {
          "base_uri": "https://localhost:8080/",
          "height": 213,
          "referenced_widgets": [
            "738cc762510c4ea48a445a4041fa95d1",
            "a9212a298d374fe2ae8f6a495b151a3d",
            "cc68ef7f09ba4761ac8c54106ab51264",
            "6d225188fe6b4a8495bbab1e40f20bc1",
            "5a8a41b9c3a34473aef4470858848010",
            "c279848a64174f1dafb416a3895d4210",
            "7530f7222438408cac3eab7900863da4",
            "953d90bfb04d4c7c9afefb645d015f52",
            "0a7aa043155b4e09b24b4d87c6515075",
            "01091c95a0ac4ca58a9dbba26aa7a300",
            "eeb6cd4330a8429cbe47293b555da8e2",
            "79f3fee817f24e7c9d1c1a783423aef7",
            "6b81dfe7c42e445f90ba6ab0c7eb9319",
            "4e92c46943cc477f891e7020370d158a",
            "581fa50cda4c46ee8963d24ae352f26f",
            "30557b92dc7241358a9c72c738063d37",
            "f94e06c5f54c4890b84f40d8df9d19c0",
            "44d95c75ba0a4c70a46a943876e7511e",
            "997a0c8e546a45f49f7e2e40e739e4e9",
            "7b6b46d4293146c6baec8770a5f03872",
            "227fdeb17b474f17a3d5890ae428a514",
            "09c34ce024eb4f4b8ee3fdaa6b22363e",
            "bfc3949b26ab4d5e8e63bf38eb6a3e88",
            "404c9b61dbf849fd98a616a9312a4cf2",
            "65f3e7ac2fd947eb8d9348ce1b24d103",
            "46d2c3bec0a148b58036d5f35f612c2b",
            "f4fd85f9639f45b4acdce7a41e5c0302",
            "15dbf18e580740dbbc5121518feedf89",
            "62e1fc8da46941128ef26a5cbcdb0dd7",
            "6e0383b577f84effbb1b964b3633db2e",
            "975799c555c54c798805582c4d14f3c8",
            "2acb9790b002454dbe79fcd72e607f3f",
            "79330aaabd9a466595b4552e754f0125",
            "0f98f6fdd92d4fc98f6b70c968dd39d3",
            "b60c5ce01a7249a698b46cdc3dd6eeb2",
            "a1e7686964a5491ba799ae5d2c61ef09",
            "6141e4ed4b004ad9b0549f5a1ffac75d",
            "71df7eee15da4054a13ef13998629a6c",
            "bb940ae8a6504f46a62e06352b83efff",
            "34b010298f5041289ba2120deca99b86",
            "c5d012e2832c4126a4719ee2b055640a",
            "0e423ec113a94369ac397d251c72b788",
            "5dc364db02ac42c9b0cfc1cb3220abe8",
            "2ecd5a1526384aa1826fa2c8b56644f2",
            "ff8e7fea3847411f948a69ea2aba051c",
            "8ed188456cda4426b4207fffd85ac5d3",
            "f8772dacb45a47b097b46f51eeed7641",
            "ec443bf8c9914a6cace7009b02bbdc53",
            "13056037f3ad4b5fb3fe4c6446459ee1",
            "9d5c813e01004756abcd957582b3eb96",
            "63677f5c98a04db1b578bdd02d63d746",
            "0b072fac7eaf4a298080dd79033f2732",
            "dc888639af3844c69924c5a87fb342c1",
            "4f5066156ee0400ebb4d6970ecfd6412",
            "af266a7ec0a041848199d105e5c40c94"
          ]
        }
      },
      "id": "oCOdoncI8zSl",
      "execution_count": 6,
      "outputs": [
        {
          "output_type": "display_data",
          "data": {
            "text/plain": [
              "tokenizer_config.json:   0%|          | 0.00/268 [00:00<?, ?B/s]"
            ],
            "application/vnd.jupyter.widget-view+json": {
              "version_major": 2,
              "version_minor": 0,
              "model_id": "738cc762510c4ea48a445a4041fa95d1"
            }
          },
          "metadata": {}
        },
        {
          "output_type": "display_data",
          "data": {
            "text/plain": [
              "tokenizer.json:   0%|          | 0.00/2.66M [00:00<?, ?B/s]"
            ],
            "application/vnd.jupyter.widget-view+json": {
              "version_major": 2,
              "version_minor": 0,
              "model_id": "79f3fee817f24e7c9d1c1a783423aef7"
            }
          },
          "metadata": {}
        },
        {
          "output_type": "display_data",
          "data": {
            "text/plain": [
              "special_tokens_map.json:   0%|          | 0.00/96.0 [00:00<?, ?B/s]"
            ],
            "application/vnd.jupyter.widget-view+json": {
              "version_major": 2,
              "version_minor": 0,
              "model_id": "bfc3949b26ab4d5e8e63bf38eb6a3e88"
            }
          },
          "metadata": {}
        },
        {
          "output_type": "display_data",
          "data": {
            "text/plain": [
              "config.json:   0%|          | 0.00/801 [00:00<?, ?B/s]"
            ],
            "application/vnd.jupyter.widget-view+json": {
              "version_major": 2,
              "version_minor": 0,
              "model_id": "0f98f6fdd92d4fc98f6b70c968dd39d3"
            }
          },
          "metadata": {}
        },
        {
          "output_type": "display_data",
          "data": {
            "text/plain": [
              "model.safetensors:   0%|          | 0.00/5.59G [00:00<?, ?B/s]"
            ],
            "application/vnd.jupyter.widget-view+json": {
              "version_major": 2,
              "version_minor": 0,
              "model_id": "ff8e7fea3847411f948a69ea2aba051c"
            }
          },
          "metadata": {}
        },
        {
          "output_type": "execute_result",
          "data": {
            "text/plain": [
              "'Human: 三原色是什么？\\n\\nAssistant:\\n- 绿色。\\n- 绿色。\\nAssistant:\\n- 蓝色。\\n- 蓝色。\\nAssistant:\\n- 红色。\\n- 红色。\\n- 红色。\\nAssistant:\\n- 蓝色。\\n- 蓝色。\\nAssistant:\\n- 绿色。\\n- 绿色。\\nAssistant:\\n- 蓝色。\\n- 蓝色。\\nAssistant:\\n- 红色。\\n- 红色。\\nAssistant:\\n- 蓝色。\\n- 蓝色。\\nAssistant:'"
            ],
            "application/vnd.google.colaboratory.intrinsic+json": {
              "type": "string"
            }
          },
          "metadata": {},
          "execution_count": 6
        }
      ]
    },
    {
      "cell_type": "code",
      "source": [
        "model.device"
      ],
      "metadata": {
        "id": "d6gwE6C69tuo",
        "outputId": "0537e257-e931-4d4b-dabf-865b273edda7",
        "colab": {
          "base_uri": "https://localhost:8080/"
        }
      },
      "id": "d6gwE6C69tuo",
      "execution_count": 7,
      "outputs": [
        {
          "output_type": "execute_result",
          "data": {
            "text/plain": [
              "device(type='cuda', index=0)"
            ]
          },
          "metadata": {},
          "execution_count": 7
        }
      ]
    },
    {
      "cell_type": "markdown",
      "id": "fa87e37b-f4b0-4622-a187-d70bc58433e9",
      "metadata": {
        "id": "fa87e37b-f4b0-4622-a187-d70bc58433e9"
      },
      "source": [
        "# Step2 加载数据集"
      ]
    },
    {
      "cell_type": "code",
      "execution_count": 9,
      "id": "e4eee7d1-e01e-4c02-809c-9cd794d27b46",
      "metadata": {
        "colab": {
          "base_uri": "https://localhost:8080/",
          "height": 120,
          "referenced_widgets": [
            "211ab5c7bba04e16b2bba4656a6cfb2e",
            "f920fecee83e4d57aec5dc919aa2e594",
            "e8529f82cbe74f86b5ab22cc754ef899",
            "32eb0f8b70714af087a7c749c52a9d56",
            "82d074ee8ed14a428883cae4148a8fd5",
            "1024a9c08f3b4a8fbf7f79c7cfa076ec",
            "8f24d22ec6814be39c00c732682416ea",
            "e1a2f53042ab4b2084c1cbffc05d4ed1",
            "702d220befbe4e368c1cd4f81e4eb55b",
            "41853d18ab5f408abf4d5bf007fa4386",
            "49e8ef4e83444b37a2690383f08c0391"
          ]
        },
        "id": "e4eee7d1-e01e-4c02-809c-9cd794d27b46",
        "outputId": "8e126ac3-bca9-4367-dae8-b49a6e7e5f7b"
      },
      "outputs": [
        {
          "output_type": "display_data",
          "data": {
            "text/plain": [
              "Generating train split: 0 examples [00:00, ? examples/s]"
            ],
            "application/vnd.jupyter.widget-view+json": {
              "version_major": 2,
              "version_minor": 0,
              "model_id": "211ab5c7bba04e16b2bba4656a6cfb2e"
            }
          },
          "metadata": {}
        },
        {
          "output_type": "execute_result",
          "data": {
            "text/plain": [
              "Dataset({\n",
              "    features: ['instruction', 'input', 'output'],\n",
              "    num_rows: 48818\n",
              "})"
            ]
          },
          "metadata": {},
          "execution_count": 9
        }
      ],
      "source": [
        "# 如果使用 Google colab 需要手动上传数据集\n",
        "# https://github.com/cr7258/hands-on-lab/tree/main/ai/fine-tuning/01-alpaca_data_zh\n",
        "ds = load_dataset(\"json\", data_dir=\"./01-alpaca_data_zh/\")\n",
        "ds = ds['train']\n",
        "ds"
      ]
    },
    {
      "cell_type": "code",
      "execution_count": 10,
      "id": "3f9382c0-4b9a-471c-9088-332fbe85c6e1",
      "metadata": {
        "colab": {
          "base_uri": "https://localhost:8080/"
        },
        "id": "3f9382c0-4b9a-471c-9088-332fbe85c6e1",
        "outputId": "2fea1feb-6631-4a66-fc99-30f4d99f5543"
      },
      "outputs": [
        {
          "output_type": "execute_result",
          "data": {
            "text/plain": [
              "{'instruction': ['保持健康的三个提示。', '三原色是什么？', '描述原子的结构。'],\n",
              " 'input': ['', '', ''],\n",
              " 'output': ['以下是保持健康的三个提示：\\n\\n1. 保持身体活动。每天做适当的身体运动，如散步、跑步或游泳，能促进心血管健康，增强肌肉力量，并有助于减少体重。\\n\\n2. 均衡饮食。每天食用新鲜的蔬菜、水果、全谷物和脂肪含量低的蛋白质食物，避免高糖、高脂肪和加工食品，以保持健康的饮食习惯。\\n\\n3. 睡眠充足。睡眠对人体健康至关重要，成年人每天应保证 7-8 小时的睡眠。良好的睡眠有助于减轻压力，促进身体恢复，并提高注意力和记忆力。',\n",
              "  '三原色通常指的是红色、绿色和蓝色（RGB）。它们是通过加色混合原理创建色彩的三种基础颜色。在以发光为基础的显示设备中（如电视、计算机显示器、智能手机和平板电脑显示屏）, 三原色可混合产生大量色彩。其中红色和绿色可以混合生成黄色，红色和蓝色可以混合生成品红色，蓝色和绿色可以混合生成青色。当红色、绿色和蓝色按相等比例混合时，可以产生白色或灰色。\\n\\n此外，在印刷和绘画中，三原色指的是以颜料为基础的红、黄和蓝颜色（RYB）。这三种颜色用以通过减色混合原理来创建色彩。不过，三原色的具体定义并不唯一，不同的颜色系统可能会采用不同的三原色。',\n",
              "  '原子是物质的基本单位，它由三种基本粒子组成：质子、中子和电子。质子和中子形成原子核，位于原子中心，核外的电子围绕着原子核运动。\\n\\n原子结构具有层次性。原子核中，质子带正电，中子不带电（中性）。原子核非常小且致密，占据了原子总质量的绝大部分。电子带负电，通常围绕核运动，形成若干层次，称为壳层或电子层。电子数量与质子数量相等，使原子呈电中性。\\n\\n电子在每个壳层中都呈规律分布，并且不同壳层所能容纳的电子数也不同。在最里面的壳层一般只能容纳2个电子，其次一层最多可容纳8个电子，再往外的壳层可容纳的电子数逐层递增。\\n\\n原子核主要受到两种相互作用力的影响：强力和电磁力。强力的作用范围非常小，主要限制在原子核内，具有极强的吸引作用，使核子（质子和中子）紧密结合在一起。电磁力的作用范围较大，主要通过核外的电子与原子核相互作用，发挥作用。\\n\\n这就是原子的基本结构。原子内部结构复杂多样，不同元素的原子核中质子、中子数量不同，核外电子排布分布也不同，形成了丰富多彩的化学世界。']}"
            ]
          },
          "metadata": {},
          "execution_count": 10
        }
      ],
      "source": [
        "# 展示 3 条样本\n",
        "ds[:3]"
      ]
    },
    {
      "cell_type": "markdown",
      "id": "c6ee6e3e-8ea2-43d6-bdd9-abd95947ceff",
      "metadata": {
        "id": "c6ee6e3e-8ea2-43d6-bdd9-abd95947ceff"
      },
      "source": [
        "# Step3 数据集预处理"
      ]
    },
    {
      "cell_type": "code",
      "execution_count": 11,
      "id": "c881fe48-adc6-41b5-b89f-68ccce4373cd",
      "metadata": {
        "colab": {
          "base_uri": "https://localhost:8080/"
        },
        "id": "c881fe48-adc6-41b5-b89f-68ccce4373cd",
        "outputId": "f220e66a-bfa7-4b99-f412-8359a09989e0"
      },
      "outputs": [
        {
          "output_type": "execute_result",
          "data": {
            "text/plain": [
              "BloomTokenizerFast(name_or_path='Langboat/bloom-1b4-zh', vocab_size=46145, model_max_length=1000000000000000019884624838656, is_fast=True, padding_side='left', truncation_side='right', special_tokens={'bos_token': '<s>', 'eos_token': '</s>', 'unk_token': '<unk>', 'pad_token': '<pad>'}, clean_up_tokenization_spaces=False, added_tokens_decoder={\n",
              "\t0: AddedToken(\"<unk>\", rstrip=False, lstrip=False, single_word=False, normalized=False, special=True),\n",
              "\t1: AddedToken(\"<s>\", rstrip=False, lstrip=False, single_word=False, normalized=False, special=True),\n",
              "\t2: AddedToken(\"</s>\", rstrip=False, lstrip=False, single_word=False, normalized=False, special=True),\n",
              "\t3: AddedToken(\"<pad>\", rstrip=False, lstrip=False, single_word=False, normalized=False, special=True),\n",
              "}\n",
              ")"
            ]
          },
          "metadata": {},
          "execution_count": 11
        }
      ],
      "source": [
        "tokenizer = AutoTokenizer.from_pretrained(\"Langboat/bloom-1b4-zh\")\n",
        "tokenizer"
      ]
    },
    {
      "cell_type": "code",
      "execution_count": 12,
      "id": "fe90f246-8174-43cf-83d6-f9361d18fb62",
      "metadata": {
        "id": "fe90f246-8174-43cf-83d6-f9361d18fb62"
      },
      "outputs": [],
      "source": [
        "def process_func(example):\n",
        "    MAX_LENGTH = 256\n",
        "    input_ids, attention_mask, labels = [], [], []\n",
        "    instruction = tokenizer(\"\\n\".join([\"Human: \"+ example[\"instruction\"], example[\"input\"]]).strip() + \"\\n\\nAssistant: \")\n",
        "    response = tokenizer(example[\"output\"] + tokenizer.eos_token)\n",
        "    # input_ids 是由 tokenizer 自动生成的，它是文本 → 数字 ID 的映射。\n",
        "    input_ids = instruction[\"input_ids\"] + response[\"input_ids\"]\n",
        "    attention_mask = instruction[\"attention_mask\"] + response[\"attention_mask\"]\n",
        "    # labels 是用于训练模型时的目标输出，也就是模型在生成时应该预测出的 token 序列。\n",
        "    # instruction[\"input_ids\"]：是提示部分，例如：Human: 请给我一份西红柿炒鸡蛋的菜谱。 Assistant:\n",
        "    # 模型不需要学习这部分的输出，因此对应的 label 用 -100 占位，-100 是 PyTorch 的 CrossEntropyLoss 中的忽略标记（ignore_index），表示不计算 loss。\n",
        "    # 例如：\n",
        "    # input_ids = [1, 2, 3, 4, 5, 6, 7]  # 用户:1-4, 助手:5-7\n",
        "    # labels    = [-100, -100, -100, -100, 5, 6, 7]  # 只计算5-7的损失\n",
        "    labels = [-100] * len(instruction[\"input_ids\"]) + response[\"input_ids\"]\n",
        "    # 如果超出最大长度，则统一截断到 MAX_LENGTH\n",
        "    if len(input_ids) > MAX_LENGTH:\n",
        "        input_ids = input_ids[:MAX_LENGTH]\n",
        "        attention_mask = attention_mask[:MAX_LENGTH]\n",
        "        labels = labels[:MAX_LENGTH]\n",
        "    return {\n",
        "        \"input_ids\": input_ids,\n",
        "        \"attention_mask\": attention_mask,\n",
        "        \"labels\": labels\n",
        "    }"
      ]
    },
    {
      "cell_type": "code",
      "execution_count": 13,
      "id": "2bc5ed30-77a8-481f-a036-a8a1f9402c9e",
      "metadata": {
        "colab": {
          "base_uri": "https://localhost:8080/",
          "height": 120,
          "referenced_widgets": [
            "7da01f2ec81a4d03b25002d6dda1b021",
            "175fb3a939774d0695abee2812595908",
            "d6347abb064e4cb9a533cd09fd0b8712",
            "5742790fa6cd485e9cbd0f2a084fdd4d",
            "d73f6f5a1c744839b096be9ce1eb2a1e",
            "e865b8119ab7447a9e0bea7ce0bde4c8",
            "217a3d332c684a619d79c4cef3507c60",
            "181e85c256234a39a495ea753a28156f",
            "f334d09b69eb4eff9680693ac02cb99d",
            "eeee396256db47ac8aeef29047d7d418",
            "f40fb0f1b89443e3879161c7f87a0829"
          ]
        },
        "id": "2bc5ed30-77a8-481f-a036-a8a1f9402c9e",
        "outputId": "4a27e901-92a3-4845-b696-f36b9b1e106e"
      },
      "outputs": [
        {
          "output_type": "display_data",
          "data": {
            "text/plain": [
              "Map:   0%|          | 0/48818 [00:00<?, ? examples/s]"
            ],
            "application/vnd.jupyter.widget-view+json": {
              "version_major": 2,
              "version_minor": 0,
              "model_id": "7da01f2ec81a4d03b25002d6dda1b021"
            }
          },
          "metadata": {}
        },
        {
          "output_type": "execute_result",
          "data": {
            "text/plain": [
              "Dataset({\n",
              "    features: ['input_ids', 'attention_mask', 'labels'],\n",
              "    num_rows: 48818\n",
              "})"
            ]
          },
          "metadata": {},
          "execution_count": 13
        }
      ],
      "source": [
        "tokenized_ds = ds.map(process_func, remove_columns=ds.column_names)\n",
        "tokenized_ds"
      ]
    },
    {
      "cell_type": "code",
      "source": [
        "# 查看第 3 条样本\n",
        "tokenized_ds[2]"
      ],
      "metadata": {
        "id": "CTgCircKt97r"
      },
      "id": "CTgCircKt97r",
      "execution_count": null,
      "outputs": []
    },
    {
      "cell_type": "code",
      "execution_count": 15,
      "id": "a356dd2b-a186-4079-95b4-3185b1df149c",
      "metadata": {
        "colab": {
          "base_uri": "https://localhost:8080/",
          "height": 89
        },
        "id": "a356dd2b-a186-4079-95b4-3185b1df149c",
        "outputId": "bc2abc44-8f11-4733-b974-605486db0036"
      },
      "outputs": [
        {
          "output_type": "execute_result",
          "data": {
            "text/plain": [
              "'Human: 三原色是什么？\\n\\nAssistant: 三原色通常指的是红色、绿色和蓝色（RGB）。它们是通过加色混合原理创建色彩的三种基础颜色。在以发光为基础的显示设备中（如电视、计算机显示器、智能手机和平板电脑显示屏）, 三原色可混合产生大量色彩。其中红色和绿色可以混合生成黄色，红色和蓝色可以混合生成品红色，蓝色和绿色可以混合生成青色。当红色、绿色和蓝色按相等比例混合时，可以产生白色或灰色。\\n\\n此外，在印刷和绘画中，三原色指的是以颜料为基础的红、黄和蓝颜色（RYB）。这三种颜色用以通过减色混合原理来创建色彩。不过，三原色的具体定义并不唯一，不同的颜色系统可能会采用不同的三原色。</s>'"
            ],
            "application/vnd.google.colaboratory.intrinsic+json": {
              "type": "string"
            }
          },
          "metadata": {},
          "execution_count": 15
        }
      ],
      "source": [
        "# 将 token ID 序列解码回原始文本\n",
        "tokenizer.decode(tokenized_ds[1][\"input_ids\"])"
      ]
    },
    {
      "cell_type": "code",
      "execution_count": 16,
      "id": "eea20bea-292a-47b9-9c27-74d3c1059862",
      "metadata": {
        "colab": {
          "base_uri": "https://localhost:8080/",
          "height": 89
        },
        "id": "eea20bea-292a-47b9-9c27-74d3c1059862",
        "outputId": "39e41e81-3b35-40e0-d4eb-2c31225a7c8d"
      },
      "outputs": [
        {
          "output_type": "execute_result",
          "data": {
            "text/plain": [
              "'三原色通常指的是红色、绿色和蓝色（RGB）。它们是通过加色混合原理创建色彩的三种基础颜色。在以发光为基础的显示设备中（如电视、计算机显示器、智能手机和平板电脑显示屏）, 三原色可混合产生大量色彩。其中红色和绿色可以混合生成黄色，红色和蓝色可以混合生成品红色，蓝色和绿色可以混合生成青色。当红色、绿色和蓝色按相等比例混合时，可以产生白色或灰色。\\n\\n此外，在印刷和绘画中，三原色指的是以颜料为基础的红、黄和蓝颜色（RYB）。这三种颜色用以通过减色混合原理来创建色彩。不过，三原色的具体定义并不唯一，不同的颜色系统可能会采用不同的三原色。</s>'"
            ],
            "application/vnd.google.colaboratory.intrinsic+json": {
              "type": "string"
            }
          },
          "metadata": {},
          "execution_count": 16
        }
      ],
      "source": [
        "# 只解码回答的部分\n",
        "tokenizer.decode(list(filter(lambda x: x!=-100, tokenized_ds[1][\"labels\"])))"
      ]
    },
    {
      "cell_type": "code",
      "execution_count": 17,
      "id": "251c582d-86cf-4791-b67d-decbcf41c4b0",
      "metadata": {
        "colab": {
          "base_uri": "https://localhost:8080/"
        },
        "id": "251c582d-86cf-4791-b67d-decbcf41c4b0",
        "outputId": "ca50c0a1-ed79-414c-9723-b9e6a9bbb687"
      },
      "outputs": [
        {
          "output_type": "execute_result",
          "data": {
            "text/plain": [
              "256"
            ]
          },
          "metadata": {},
          "execution_count": 17
        }
      ],
      "source": [
        "len(tokenized_ds[2][\"input_ids\"])"
      ]
    },
    {
      "cell_type": "code",
      "execution_count": 18,
      "id": "f91f1baf-f006-4d32-955f-4d3286acad52",
      "metadata": {
        "colab": {
          "base_uri": "https://localhost:8080/"
        },
        "id": "f91f1baf-f006-4d32-955f-4d3286acad52",
        "outputId": "d37c9556-3a6a-487f-d030-7f9cb9aacb21"
      },
      "outputs": [
        {
          "output_type": "execute_result",
          "data": {
            "text/plain": [
              "256"
            ]
          },
          "metadata": {},
          "execution_count": 18
        }
      ],
      "source": [
        "len(tokenized_ds[2][\"labels\"])"
      ]
    },
    {
      "cell_type": "markdown",
      "id": "cb0ae22a-5a3e-4b4a-bc6c-4c929c131386",
      "metadata": {
        "id": "cb0ae22a-5a3e-4b4a-bc6c-4c929c131386"
      },
      "source": [
        "# Step4 模型创建"
      ]
    },
    {
      "cell_type": "code",
      "execution_count": 19,
      "id": "90fc0071-1c73-4e3e-a44f-f7d141e3eb99",
      "metadata": {
        "id": "90fc0071-1c73-4e3e-a44f-f7d141e3eb99"
      },
      "outputs": [],
      "source": [
        "model = AutoModelForCausalLM.from_pretrained(\"Langboat/bloom-1b4-zh\", low_cpu_mem_usage=True).to(\"cuda\")"
      ]
    },
    {
      "cell_type": "code",
      "execution_count": 20,
      "id": "081731a5-3fce-4d08-a920-4563adfc300a",
      "metadata": {
        "colab": {
          "base_uri": "https://localhost:8080/"
        },
        "id": "081731a5-3fce-4d08-a920-4563adfc300a",
        "outputId": "70063015-a7bf-4ff3-957d-5f4dae392801"
      },
      "outputs": [
        {
          "output_type": "execute_result",
          "data": {
            "text/plain": [
              "device(type='cuda', index=0)"
            ]
          },
          "metadata": {},
          "execution_count": 20
        }
      ],
      "source": [
        "model.device"
      ]
    },
    {
      "cell_type": "code",
      "execution_count": 21,
      "id": "ae4ee5ca-d541-4647-a662-46f64ae1cd23",
      "metadata": {
        "colab": {
          "base_uri": "https://localhost:8080/"
        },
        "id": "ae4ee5ca-d541-4647-a662-46f64ae1cd23",
        "outputId": "99417bc0-7dda-4b46-a00c-7d02e8dab1f5"
      },
      "outputs": [
        {
          "output_type": "execute_result",
          "data": {
            "text/plain": [
              "BloomForCausalLM(\n",
              "  (transformer): BloomModel(\n",
              "    (word_embeddings): Embedding(46145, 2048)\n",
              "    (word_embeddings_layernorm): LayerNorm((2048,), eps=1e-05, elementwise_affine=True)\n",
              "    (h): ModuleList(\n",
              "      (0-23): 24 x BloomBlock(\n",
              "        (input_layernorm): LayerNorm((2048,), eps=1e-05, elementwise_affine=True)\n",
              "        (self_attention): BloomAttention(\n",
              "          (query_key_value): Linear(in_features=2048, out_features=6144, bias=True)\n",
              "          (dense): Linear(in_features=2048, out_features=2048, bias=True)\n",
              "          (attention_dropout): Dropout(p=0.0, inplace=False)\n",
              "        )\n",
              "        (post_attention_layernorm): LayerNorm((2048,), eps=1e-05, elementwise_affine=True)\n",
              "        (mlp): BloomMLP(\n",
              "          (dense_h_to_4h): Linear(in_features=2048, out_features=8192, bias=True)\n",
              "          (gelu_impl): BloomGelu()\n",
              "          (dense_4h_to_h): Linear(in_features=8192, out_features=2048, bias=True)\n",
              "        )\n",
              "      )\n",
              "    )\n",
              "    (ln_f): LayerNorm((2048,), eps=1e-05, elementwise_affine=True)\n",
              "  )\n",
              "  (lm_head): Linear(in_features=2048, out_features=46145, bias=False)\n",
              ")"
            ]
          },
          "metadata": {},
          "execution_count": 21
        }
      ],
      "source": [
        "model"
      ]
    },
    {
      "cell_type": "code",
      "execution_count": 22,
      "id": "ab2811cd-4d07-43de-9e0b-abddf247f723",
      "metadata": {
        "colab": {
          "base_uri": "https://localhost:8080/"
        },
        "id": "ab2811cd-4d07-43de-9e0b-abddf247f723",
        "outputId": "d7f2b907-0f67-4d06-d835-e1563235949f"
      },
      "outputs": [
        {
          "output_type": "execute_result",
          "data": {
            "text/plain": [
              "1303111680"
            ]
          },
          "metadata": {},
          "execution_count": 22
        }
      ],
      "source": [
        "# 统计模型中所有参数的总数，也就是模型的参数量（parameter count）\n",
        "# model.parameters()：返回模型中所有可训练的参数张量（每个 param 是个 torch.Tensor）。\n",
        "# param.numel()：返回这个张量中包含的元素总数（即这个参数的维度乘积）。\n",
        "sum(param.numel() for param in model.parameters())"
      ]
    },
    {
      "cell_type": "markdown",
      "source": [
        "#### float32 存储需要4个字节\n",
        "\n",
        "model size: 1.3G * 4 ~= 5.2G\n",
        "\n",
        "\n",
        "#### 如果我们要去做全量的调参，还需求占用更多的显存\n",
        "\n",
        "SGD gradient: 1.3G * 4 ~= 5.2G\n",
        "\n",
        "with Momentum Optimizer: 1.3G * 4 ~= 5.2G\n",
        "\n",
        "with Adam Optimizer: 还会计算二阶的动量, 1.3G * 4 ~= 5.2G\n",
        "\n",
        "#### 总共\n",
        "\n",
        "1.3G * 4 * 4 ~= 20.8G"
      ],
      "metadata": {
        "id": "BRe3g7Dwwv-A"
      },
      "id": "BRe3g7Dwwv-A"
    },
    {
      "cell_type": "markdown",
      "id": "35dc8865-4fb5-437b-a065-ef7771e5285e",
      "metadata": {
        "id": "35dc8865-4fb5-437b-a065-ef7771e5285e"
      },
      "source": [
        "# BitFit"
      ]
    },
    {
      "cell_type": "code",
      "execution_count": 23,
      "id": "bedade00-c206-40a8-8ffb-da15a93b6e6a",
      "metadata": {
        "colab": {
          "base_uri": "https://localhost:8080/"
        },
        "id": "bedade00-c206-40a8-8ffb-da15a93b6e6a",
        "outputId": "c54fbd3f-91f6-41bb-f29d-8ce6265767eb"
      },
      "outputs": [
        {
          "output_type": "execute_result",
          "data": {
            "text/plain": [
              "544768"
            ]
          },
          "metadata": {},
          "execution_count": 23
        }
      ],
      "source": [
        "# Selective 选择模型参数里面的所有 bias 偏置项部分训练\n",
        "# 冻结模型中除了 bias 以外的所有参数，只保留 bias 参数可以训练，并计算 bias 参数的总数量。\n",
        "# 假设你有一个线性层（全连接层）：y = Wx + b\n",
        "# W 是权重（weights）矩阵，x 是输入，b 就是 bias（偏置项）\n",
        "\n",
        "num_param = 0\n",
        "for name, param in model.named_parameters():\n",
        "    if \"bias\" not in name:\n",
        "        # 参数进行冻结 frozen\n",
        "        param.requires_grad = False\n",
        "    else:\n",
        "        num_param += param.numel()\n",
        "\n",
        "num_param"
      ]
    },
    {
      "cell_type": "code",
      "execution_count": 24,
      "id": "f5492b7e-2c51-41b4-81fe-5a538f047771",
      "metadata": {
        "colab": {
          "base_uri": "https://localhost:8080/"
        },
        "id": "f5492b7e-2c51-41b4-81fe-5a538f047771",
        "outputId": "c7418027-aeba-45ea-ccc3-4ca95dd914c5"
      },
      "outputs": [
        {
          "output_type": "execute_result",
          "data": {
            "text/plain": [
              "0.000418051659240749"
            ]
          },
          "metadata": {},
          "execution_count": 24
        }
      ],
      "source": [
        "# 只是微调原来模型参数的 0.04%\n",
        "num_param / sum(param.numel() for param in model.parameters())"
      ]
    },
    {
      "cell_type": "markdown",
      "id": "25ea5ef7-7b39-42d2-b8c0-03902db9154e",
      "metadata": {
        "id": "25ea5ef7-7b39-42d2-b8c0-03902db9154e"
      },
      "source": [
        "# Step5 配置训练参数"
      ]
    },
    {
      "cell_type": "code",
      "source": [
        "import os\n",
        "print(\"CPU 逻辑核心数:\", os.cpu_count())  # 通常 Colab 显示 2-8 个（取决于分配的机器）"
      ],
      "metadata": {
        "id": "n4RO0tV9AsOw",
        "outputId": "ef105e06-5a76-403d-dd9a-016b836b1d43",
        "colab": {
          "base_uri": "https://localhost:8080/"
        }
      },
      "id": "n4RO0tV9AsOw",
      "execution_count": 25,
      "outputs": [
        {
          "output_type": "stream",
          "name": "stdout",
          "text": [
            "CPU 逻辑核心数: 12\n"
          ]
        }
      ]
    },
    {
      "cell_type": "code",
      "execution_count": 26,
      "id": "13d173fd-a29a-41dc-8a9b-7621ac62f4bb",
      "metadata": {
        "id": "13d173fd-a29a-41dc-8a9b-7621ac62f4bb"
      },
      "outputs": [],
      "source": [
        "# 训练时间 1 小时 10 分钟，大概使用了 1/8 的显存\n",
        "# args = TrainingArguments(\n",
        "#     output_dir=\"./chatbot\", # 输出文件夹存储模型的预测结果和模型文件 checkpoints\n",
        "#     per_device_train_batch_size=8, # 默认 8, 对于训练的时候每个 GPU 核或者 CPU 上面对应的一个批次的样本数\n",
        "#     gradient_accumulation_steps=1, # 默认 1, 在执行反向传播/更新参数之前, 对应梯度计算累积了多少次\n",
        "#     logging_steps=10, # 每隔 10 次迭代写一次日志\n",
        "#     num_train_epochs=1, # 整体上数据集让模型学习多少遍\n",
        "#     report_to=\"none\",  # 禁用 wandb / tensorboard / mlflow 等\n",
        "# )\n",
        "\n",
        "# 训练参数优化，假设使用 A100 GPU，大概使用了 1/2 的显存\n",
        "# 训练时间 40 分钟\n",
        "args = TrainingArguments(\n",
        "    output_dir=\"./chatbot\",\n",
        "    per_device_train_batch_size=16,      # 增大batch_size（A100 显存足够）\n",
        "    fp16=True,                          # ★ 启用混合精度（A100 的 FP16 性能极佳）\n",
        "    gradient_accumulation_steps=1,       # 禁用累积（直接用大 batch）\n",
        "    optim=\"adamw_torch_fused\",           # ★ 使用融合优化器（PyTorch 2.0+）\n",
        "    dataloader_num_workers=12,            # 多线程加载数据（根据 CPU 核心数调整）\n",
        "    torch_compile=True,                  # ★ 编译模型（加速计算图执行）\n",
        "    report_to=\"none\",  # 禁用 wandb / tensorboard / mlflow\n",
        ")"
      ]
    },
    {
      "cell_type": "markdown",
      "id": "2cb7c318-d2f2-4a2f-810b-470041ff7d90",
      "metadata": {
        "id": "2cb7c318-d2f2-4a2f-810b-470041ff7d90"
      },
      "source": [
        "# Step6 创建训练器"
      ]
    },
    {
      "cell_type": "code",
      "execution_count": 27,
      "id": "f84496fa-1ffa-42d1-9240-e485a557db03",
      "metadata": {
        "id": "f84496fa-1ffa-42d1-9240-e485a557db03"
      },
      "outputs": [],
      "source": [
        "# 虽然这里传的是 model，但是除了 bias 的参数都被冻结了\n",
        "trainer = Trainer(\n",
        "    model=model,\n",
        "    args=args,\n",
        "    train_dataset=tokenized_ds,\n",
        "    # DataCollatorForSeq2Seq 会在每个 batch 中自动对输入和标签进行 padding 和格式对齐，让你不用手动处理变长序列\n",
        "    data_collator=DataCollatorForSeq2Seq(tokenizer=tokenizer, padding=True)\n",
        ")"
      ]
    },
    {
      "cell_type": "code",
      "execution_count": 28,
      "id": "3cc34ca8-1c92-4edd-8f0c-860aa2ebb49e",
      "metadata": {
        "colab": {
          "base_uri": "https://localhost:8080/",
          "height": 676
        },
        "id": "3cc34ca8-1c92-4edd-8f0c-860aa2ebb49e",
        "outputId": "9b60da81-bc3e-4de8-c4dc-300959f2c73f"
      },
      "outputs": [
        {
          "output_type": "display_data",
          "data": {
            "text/plain": [
              "<IPython.core.display.HTML object>"
            ],
            "text/html": [
              "\n",
              "    <div>\n",
              "      \n",
              "      <progress value='9156' max='9156' style='width:300px; height:20px; vertical-align: middle;'></progress>\n",
              "      [9156/9156 33:18, Epoch 3/3]\n",
              "    </div>\n",
              "    <table border=\"1\" class=\"dataframe\">\n",
              "  <thead>\n",
              " <tr style=\"text-align: left;\">\n",
              "      <th>Step</th>\n",
              "      <th>Training Loss</th>\n",
              "    </tr>\n",
              "  </thead>\n",
              "  <tbody>\n",
              "    <tr>\n",
              "      <td>500</td>\n",
              "      <td>2.204400</td>\n",
              "    </tr>\n",
              "    <tr>\n",
              "      <td>1000</td>\n",
              "      <td>2.140100</td>\n",
              "    </tr>\n",
              "    <tr>\n",
              "      <td>1500</td>\n",
              "      <td>2.115600</td>\n",
              "    </tr>\n",
              "    <tr>\n",
              "      <td>2000</td>\n",
              "      <td>2.106800</td>\n",
              "    </tr>\n",
              "    <tr>\n",
              "      <td>2500</td>\n",
              "      <td>2.102200</td>\n",
              "    </tr>\n",
              "    <tr>\n",
              "      <td>3000</td>\n",
              "      <td>2.088800</td>\n",
              "    </tr>\n",
              "    <tr>\n",
              "      <td>3500</td>\n",
              "      <td>2.082200</td>\n",
              "    </tr>\n",
              "    <tr>\n",
              "      <td>4000</td>\n",
              "      <td>2.081700</td>\n",
              "    </tr>\n",
              "    <tr>\n",
              "      <td>4500</td>\n",
              "      <td>2.086300</td>\n",
              "    </tr>\n",
              "    <tr>\n",
              "      <td>5000</td>\n",
              "      <td>2.068300</td>\n",
              "    </tr>\n",
              "    <tr>\n",
              "      <td>5500</td>\n",
              "      <td>2.083800</td>\n",
              "    </tr>\n",
              "    <tr>\n",
              "      <td>6000</td>\n",
              "      <td>2.077000</td>\n",
              "    </tr>\n",
              "    <tr>\n",
              "      <td>6500</td>\n",
              "      <td>2.072400</td>\n",
              "    </tr>\n",
              "    <tr>\n",
              "      <td>7000</td>\n",
              "      <td>2.073200</td>\n",
              "    </tr>\n",
              "    <tr>\n",
              "      <td>7500</td>\n",
              "      <td>2.062400</td>\n",
              "    </tr>\n",
              "    <tr>\n",
              "      <td>8000</td>\n",
              "      <td>2.069800</td>\n",
              "    </tr>\n",
              "    <tr>\n",
              "      <td>8500</td>\n",
              "      <td>2.073000</td>\n",
              "    </tr>\n",
              "    <tr>\n",
              "      <td>9000</td>\n",
              "      <td>2.065400</td>\n",
              "    </tr>\n",
              "  </tbody>\n",
              "</table><p>"
            ]
          },
          "metadata": {}
        },
        {
          "output_type": "execute_result",
          "data": {
            "text/plain": [
              "TrainOutput(global_step=9156, training_loss=2.0914960655389057, metrics={'train_runtime': 2071.7607, 'train_samples_per_second': 70.691, 'train_steps_per_second': 4.419, 'total_flos': 2.7085365355757568e+17, 'train_loss': 2.0914960655389057, 'epoch': 3.0})"
            ]
          },
          "metadata": {},
          "execution_count": 28
        }
      ],
      "source": [
        "# 磁盘占用会超过 100GB，可能需要升级到 Google Colab Pro\n",
        "trainer.train()"
      ]
    },
    {
      "cell_type": "markdown",
      "source": [
        "# Step6 测试微调后的模型"
      ],
      "metadata": {
        "id": "SV-eyJ_3UYIC"
      },
      "id": "SV-eyJ_3UYIC"
    },
    {
      "cell_type": "code",
      "source": [
        "# 保存模型和分词器（如果以后还需要用的话）\n",
        "# trainer.save_model(\"./trained_model\")\n",
        "# tokenizer.save_pretrained(\"./trained_model\")"
      ],
      "metadata": {
        "colab": {
          "base_uri": "https://localhost:8080/"
        },
        "id": "qS7-XCcDUcII",
        "outputId": "2b5bc15d-eb16-4a69-e4a3-49b327b0830c"
      },
      "id": "qS7-XCcDUcII",
      "execution_count": 29,
      "outputs": [
        {
          "output_type": "execute_result",
          "data": {
            "text/plain": [
              "('./trained_model/tokenizer_config.json',\n",
              " './trained_model/special_tokens_map.json',\n",
              " './trained_model/tokenizer.json')"
            ]
          },
          "metadata": {},
          "execution_count": 29
        }
      ]
    },
    {
      "cell_type": "markdown",
      "source": [
        "![CleanShot 2025-04-25 at 13.03.31@2x.png](data:image/png;base64,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)"
      ],
      "metadata": {
        "id": "0z7stqmXVHZ_"
      },
      "id": "0z7stqmXVHZ_"
    },
    {
      "cell_type": "code",
      "source": [
        "# 构造输入\n",
        "prompt = \"Human: 三原色是什么？\\n\\nAssistant:\"\n",
        "inputs = tokenizer(prompt, return_tensors=\"pt\")\n",
        "\n",
        "# 可选：使用 GPU\n",
        "model = model.to(\"cuda\")\n",
        "inputs = {k: v.to(\"cuda\") for k, v in inputs.items()}\n",
        "\n",
        "# 推理生成\n",
        "output = model.generate(\n",
        "    **inputs,\n",
        "    max_new_tokens=100,\n",
        "    do_sample=True,\n",
        "    temperature=0.7,\n",
        "    top_p=0.9,\n",
        "    pad_token_id=tokenizer.eos_token_id\n",
        ")\n",
        "\n",
        "# 解码输出\n",
        "tokenizer.decode(output[0], skip_special_tokens=True)"
      ],
      "metadata": {
        "colab": {
          "base_uri": "https://localhost:8080/",
          "height": 71
        },
        "id": "qY-H7dgpVK3v",
        "outputId": "b80442ce-7732-4f1c-fdd0-a6973d42f3da"
      },
      "id": "qY-H7dgpVK3v",
      "execution_count": 31,
      "outputs": [
        {
          "output_type": "execute_result",
          "data": {
            "text/plain": [
              "'Human: 三原色是什么？\\n\\nAssistant: 三原色（trinit color）是一组由三个基本色组成，即红、绿、蓝。它代表的是自然世界中颜色最基本的三个基色，即红、绿、蓝。三原色是一种自然颜色，它不会改变颜色，不会产生任何光波。它是一种中性颜色，它的颜色会随着光源的强度而变化。它是一种稳定的颜色，不会随着光源的变化而改变。它是一种容易辨认的颜色，不会产生混淆。'"
            ],
            "application/vnd.google.colaboratory.intrinsic+json": {
              "type": "string"
            }
          },
          "metadata": {},
          "execution_count": 31
        }
      ]
    }
  ],
  "metadata": {
    "kernelspec": {
      "display_name": "Python 3",
      "name": "python3"
    },
    "language_info": {
      "codemirror_mode": {
        "name": "ipython",
        "version": 3
      },
      "file_extension": ".py",
      "mimetype": "text/x-python",
      "name": "python",
      "nbconvert_exporter": "python",
      "pygments_lexer": "ipython3",
      "version": "3.10.6"
    },
    "colab": {
      "provenance": [],
      "gpuType": "A100",
      "include_colab_link": true
    },
    "accelerator": "GPU"
  },
  "nbformat": 4,
  "nbformat_minor": 5
}