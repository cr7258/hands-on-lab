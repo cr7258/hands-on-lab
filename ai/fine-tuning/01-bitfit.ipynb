{
  "cells": [
    {
      "cell_type": "markdown",
      "metadata": {
        "id": "view-in-github",
        "colab_type": "text"
      },
      "source": [
        "<a href=\"https://colab.research.google.com/github/cr7258/hands-on-lab/blob/main/ai/fine-tuning/01-bitfit.ipynb\" target=\"_parent\"><img src=\"https://colab.research.google.com/assets/colab-badge.svg\" alt=\"Open In Colab\"/></a>"
      ]
    },
    {
      "cell_type": "markdown",
      "id": "69f2ae25-252e-460e-8238-6dde5d988186",
      "metadata": {
        "id": "69f2ae25-252e-460e-8238-6dde5d988186"
      },
      "source": [
        "# Step0 导入相关模块"
      ]
    },
    {
      "cell_type": "code",
      "source": [
        "!pip install datasets transformers"
      ],
      "metadata": {
        "id": "-hzlrycwoH26"
      },
      "id": "-hzlrycwoH26",
      "execution_count": null,
      "outputs": []
    },
    {
      "cell_type": "code",
      "execution_count": 3,
      "id": "f81233df-ef32-4cb9-82c3-3ca0ad961b23",
      "metadata": {
        "id": "f81233df-ef32-4cb9-82c3-3ca0ad961b23"
      },
      "outputs": [],
      "source": [
        "from datasets import load_dataset\n",
        "from transformers import AutoTokenizer, AutoModelForCausalLM, DataCollatorForSeq2Seq, TrainingArguments, Trainer"
      ]
    },
    {
      "cell_type": "code",
      "execution_count": 4,
      "id": "6dc0c3c3-4bf3-4bb0-8668-606b42cbd819",
      "metadata": {
        "colab": {
          "base_uri": "https://localhost:8080/",
          "height": 35
        },
        "id": "6dc0c3c3-4bf3-4bb0-8668-606b42cbd819",
        "outputId": "4f7f9a93-68ba-4804-beda-453fedc7a51e"
      },
      "outputs": [
        {
          "output_type": "execute_result",
          "data": {
            "text/plain": [
              "'3.5.0'"
            ],
            "application/vnd.google.colaboratory.intrinsic+json": {
              "type": "string"
            }
          },
          "metadata": {},
          "execution_count": 4
        }
      ],
      "source": [
        "import datasets\n",
        "datasets.__version__"
      ]
    },
    {
      "cell_type": "code",
      "execution_count": 5,
      "id": "fb6b7ab6-1a73-417b-aa62-40f3e022c80f",
      "metadata": {
        "colab": {
          "base_uri": "https://localhost:8080/",
          "height": 35
        },
        "id": "fb6b7ab6-1a73-417b-aa62-40f3e022c80f",
        "outputId": "474501b5-7bc2-4e16-d10a-0ecb168e8976"
      },
      "outputs": [
        {
          "output_type": "execute_result",
          "data": {
            "text/plain": [
              "'4.51.3'"
            ],
            "application/vnd.google.colaboratory.intrinsic+json": {
              "type": "string"
            }
          },
          "metadata": {},
          "execution_count": 5
        }
      ],
      "source": [
        "import transformers\n",
        "transformers.__version__"
      ]
    },
    {
      "cell_type": "code",
      "execution_count": 4,
      "id": "4e390aa5-051b-41fc-a9e3-f978275f50c1",
      "metadata": {
        "id": "4e390aa5-051b-41fc-a9e3-f978275f50c1"
      },
      "outputs": [],
      "source": [
        "import warnings\n",
        "warnings.filterwarnings('ignore')"
      ]
    },
    {
      "cell_type": "markdown",
      "source": [
        "# Step1 查看模型训练前的推理效果"
      ],
      "metadata": {
        "id": "lEM6ELvg8ceH"
      },
      "id": "lEM6ELvg8ceH"
    },
    {
      "cell_type": "code",
      "source": [
        "# 加载 Langboat 中文 Bloom 模型和分词器\n",
        "model_name = \"Langboat/bloom-1b4-zh\"\n",
        "tokenizer = AutoTokenizer.from_pretrained(model_name)\n",
        "model = AutoModelForCausalLM.from_pretrained(model_name)\n",
        "\n",
        "# 构造输入\n",
        "prompt = \"Human: 三原色是什么？\\n\\nAssistant:\"\n",
        "inputs = tokenizer(prompt, return_tensors=\"pt\")\n",
        "\n",
        "# 可选：使用 GPU\n",
        "model = model.to(\"cuda\")\n",
        "inputs = {k: v.to(\"cuda\") for k, v in inputs.items()}\n",
        "\n",
        "# 推理生成\n",
        "output = model.generate(\n",
        "    **inputs,\n",
        "    max_new_tokens=100,\n",
        "    do_sample=True,\n",
        "    temperature=0.7,\n",
        "    top_p=0.9,\n",
        "    pad_token_id=tokenizer.eos_token_id\n",
        ")\n",
        "\n",
        "# 解码输出\n",
        "tokenizer.decode(output[0], skip_special_tokens=True)\n"
      ],
      "metadata": {
        "id": "oCOdoncI8zSl",
        "outputId": "bf5e95c6-bb2a-4d91-b66a-ef75c41bfdbe",
        "colab": {
          "base_uri": "https://localhost:8080/",
          "height": 89
        }
      },
      "id": "oCOdoncI8zSl",
      "execution_count": 7,
      "outputs": [
        {
          "output_type": "execute_result",
          "data": {
            "text/plain": [
              "'Human: 三原色是什么？\\n\\nAssistant:\\n红色\\nBlue:\\n黄色\\nGreen:\\n绿色\\nPurple:\\n紫色\\nRed:\\n红色\\nBlue:\\n黄色\\nGreen:\\n绿色\\nPurple:\\n紫色\\nRed:\\n红色\\nBlue:\\n黄色\\nGreen:\\n绿色\\nPurple:\\n紫色\\nRed:\\n红色\\nBlue:\\n黄色\\nGreen:\\n绿色\\nPurple:\\n紫色\\nRed:\\n红色\\nBlue:\\n黄色\\nGreen:\\n绿色\\nPurple:'"
            ],
            "application/vnd.google.colaboratory.intrinsic+json": {
              "type": "string"
            }
          },
          "metadata": {},
          "execution_count": 7
        }
      ]
    },
    {
      "cell_type": "code",
      "source": [
        "model.device"
      ],
      "metadata": {
        "id": "d6gwE6C69tuo",
        "outputId": "fca08a1c-4352-4f8d-910a-915d521b26b0",
        "colab": {
          "base_uri": "https://localhost:8080/"
        }
      },
      "id": "d6gwE6C69tuo",
      "execution_count": 9,
      "outputs": [
        {
          "output_type": "execute_result",
          "data": {
            "text/plain": [
              "device(type='cuda', index=0)"
            ]
          },
          "metadata": {},
          "execution_count": 9
        }
      ]
    },
    {
      "cell_type": "markdown",
      "id": "fa87e37b-f4b0-4622-a187-d70bc58433e9",
      "metadata": {
        "id": "fa87e37b-f4b0-4622-a187-d70bc58433e9"
      },
      "source": [
        "# Step2 加载数据集"
      ]
    },
    {
      "cell_type": "code",
      "execution_count": 10,
      "id": "e4eee7d1-e01e-4c02-809c-9cd794d27b46",
      "metadata": {
        "colab": {
          "base_uri": "https://localhost:8080/",
          "height": 120,
          "referenced_widgets": [
            "d74d02511b1743858cb8cb551a1ea6ff",
            "e850f107bb9049c195aade84ca136580",
            "edf07184351944208ac428589e8a26a0",
            "b76a289ca7a7449e896af2595018e36b",
            "2ca1ba1def624de6acfc31cfddd0583c",
            "02112ec671f94fafaef3049fc1a89133",
            "a12bf797b5be4ad3aefbb0509157a70f",
            "03b74ab0f27f40a9abaa6095a019ef8d",
            "0678e0173f1d466cb9ee9e97eb4a05b2",
            "d982a01c84e34157a48de8cdd2a82e78",
            "b97e085bdeac4279b7295962f92ec147"
          ]
        },
        "id": "e4eee7d1-e01e-4c02-809c-9cd794d27b46",
        "outputId": "255e710f-643a-44c9-83d8-98b6b7f52588"
      },
      "outputs": [
        {
          "output_type": "display_data",
          "data": {
            "text/plain": [
              "Generating train split: 0 examples [00:00, ? examples/s]"
            ],
            "application/vnd.jupyter.widget-view+json": {
              "version_major": 2,
              "version_minor": 0,
              "model_id": "d74d02511b1743858cb8cb551a1ea6ff"
            }
          },
          "metadata": {}
        },
        {
          "output_type": "execute_result",
          "data": {
            "text/plain": [
              "Dataset({\n",
              "    features: ['instruction', 'input', 'output'],\n",
              "    num_rows: 48818\n",
              "})"
            ]
          },
          "metadata": {},
          "execution_count": 10
        }
      ],
      "source": [
        "ds = load_dataset(\"json\", data_dir=\"./01-alpaca_data_zh/\")\n",
        "ds = ds['train']\n",
        "ds"
      ]
    },
    {
      "cell_type": "code",
      "execution_count": 11,
      "id": "3f9382c0-4b9a-471c-9088-332fbe85c6e1",
      "metadata": {
        "colab": {
          "base_uri": "https://localhost:8080/"
        },
        "id": "3f9382c0-4b9a-471c-9088-332fbe85c6e1",
        "outputId": "70a0163b-281b-4313-8d07-ade857a88f2a"
      },
      "outputs": [
        {
          "output_type": "execute_result",
          "data": {
            "text/plain": [
              "{'instruction': ['保持健康的三个提示。', '三原色是什么？', '描述原子的结构。'],\n",
              " 'input': ['', '', ''],\n",
              " 'output': ['以下是保持健康的三个提示：\\n\\n1. 保持身体活动。每天做适当的身体运动，如散步、跑步或游泳，能促进心血管健康，增强肌肉力量，并有助于减少体重。\\n\\n2. 均衡饮食。每天食用新鲜的蔬菜、水果、全谷物和脂肪含量低的蛋白质食物，避免高糖、高脂肪和加工食品，以保持健康的饮食习惯。\\n\\n3. 睡眠充足。睡眠对人体健康至关重要，成年人每天应保证 7-8 小时的睡眠。良好的睡眠有助于减轻压力，促进身体恢复，并提高注意力和记忆力。',\n",
              "  '三原色通常指的是红色、绿色和蓝色（RGB）。它们是通过加色混合原理创建色彩的三种基础颜色。在以发光为基础的显示设备中（如电视、计算机显示器、智能手机和平板电脑显示屏）, 三原色可混合产生大量色彩。其中红色和绿色可以混合生成黄色，红色和蓝色可以混合生成品红色，蓝色和绿色可以混合生成青色。当红色、绿色和蓝色按相等比例混合时，可以产生白色或灰色。\\n\\n此外，在印刷和绘画中，三原色指的是以颜料为基础的红、黄和蓝颜色（RYB）。这三种颜色用以通过减色混合原理来创建色彩。不过，三原色的具体定义并不唯一，不同的颜色系统可能会采用不同的三原色。',\n",
              "  '原子是物质的基本单位，它由三种基本粒子组成：质子、中子和电子。质子和中子形成原子核，位于原子中心，核外的电子围绕着原子核运动。\\n\\n原子结构具有层次性。原子核中，质子带正电，中子不带电（中性）。原子核非常小且致密，占据了原子总质量的绝大部分。电子带负电，通常围绕核运动，形成若干层次，称为壳层或电子层。电子数量与质子数量相等，使原子呈电中性。\\n\\n电子在每个壳层中都呈规律分布，并且不同壳层所能容纳的电子数也不同。在最里面的壳层一般只能容纳2个电子，其次一层最多可容纳8个电子，再往外的壳层可容纳的电子数逐层递增。\\n\\n原子核主要受到两种相互作用力的影响：强力和电磁力。强力的作用范围非常小，主要限制在原子核内，具有极强的吸引作用，使核子（质子和中子）紧密结合在一起。电磁力的作用范围较大，主要通过核外的电子与原子核相互作用，发挥作用。\\n\\n这就是原子的基本结构。原子内部结构复杂多样，不同元素的原子核中质子、中子数量不同，核外电子排布分布也不同，形成了丰富多彩的化学世界。']}"
            ]
          },
          "metadata": {},
          "execution_count": 11
        }
      ],
      "source": [
        "# 展示 3 条样本\n",
        "ds[:3]"
      ]
    },
    {
      "cell_type": "markdown",
      "id": "c6ee6e3e-8ea2-43d6-bdd9-abd95947ceff",
      "metadata": {
        "id": "c6ee6e3e-8ea2-43d6-bdd9-abd95947ceff"
      },
      "source": [
        "# Step3 数据集预处理"
      ]
    },
    {
      "cell_type": "code",
      "execution_count": 12,
      "id": "c881fe48-adc6-41b5-b89f-68ccce4373cd",
      "metadata": {
        "colab": {
          "base_uri": "https://localhost:8080/"
        },
        "id": "c881fe48-adc6-41b5-b89f-68ccce4373cd",
        "outputId": "0fa25523-1a1a-4b12-b33e-c9183c28320e"
      },
      "outputs": [
        {
          "output_type": "execute_result",
          "data": {
            "text/plain": [
              "BloomTokenizerFast(name_or_path='Langboat/bloom-1b4-zh', vocab_size=46145, model_max_length=1000000000000000019884624838656, is_fast=True, padding_side='left', truncation_side='right', special_tokens={'bos_token': '<s>', 'eos_token': '</s>', 'unk_token': '<unk>', 'pad_token': '<pad>'}, clean_up_tokenization_spaces=False, added_tokens_decoder={\n",
              "\t0: AddedToken(\"<unk>\", rstrip=False, lstrip=False, single_word=False, normalized=False, special=True),\n",
              "\t1: AddedToken(\"<s>\", rstrip=False, lstrip=False, single_word=False, normalized=False, special=True),\n",
              "\t2: AddedToken(\"</s>\", rstrip=False, lstrip=False, single_word=False, normalized=False, special=True),\n",
              "\t3: AddedToken(\"<pad>\", rstrip=False, lstrip=False, single_word=False, normalized=False, special=True),\n",
              "}\n",
              ")"
            ]
          },
          "metadata": {},
          "execution_count": 12
        }
      ],
      "source": [
        "tokenizer = AutoTokenizer.from_pretrained(\"Langboat/bloom-1b4-zh\")\n",
        "tokenizer"
      ]
    },
    {
      "cell_type": "code",
      "execution_count": 13,
      "id": "fe90f246-8174-43cf-83d6-f9361d18fb62",
      "metadata": {
        "id": "fe90f246-8174-43cf-83d6-f9361d18fb62"
      },
      "outputs": [],
      "source": [
        "def process_func(example):\n",
        "    MAX_LENGTH = 256\n",
        "    input_ids, attention_mask, labels = [], [], []\n",
        "    instruction = tokenizer(\"\\n\".join([\"Human: \"+ example[\"instruction\"], example[\"input\"]]).strip() + \"\\n\\nAssistant: \")\n",
        "    response = tokenizer(example[\"output\"] + tokenizer.eos_token)\n",
        "    # input_ids 是由 tokenizer 自动生成的，它是文本 → 数字 ID 的映射。\n",
        "    input_ids = instruction[\"input_ids\"] + response[\"input_ids\"]\n",
        "    attention_mask = instruction[\"attention_mask\"] + response[\"attention_mask\"]\n",
        "    # labels 是用于训练模型时的目标输出，也就是模型在生成时应该预测出的 token 序列。\n",
        "    # instruction[\"input_ids\"]：是提示部分，例如：Human: 请给我一份西红柿炒鸡蛋的菜谱。 Assistant:\n",
        "    # 模型不需要学习这部分的输出，因此对应的 label 用 -100 占位，-100 是 PyTorch 的 CrossEntropyLoss 中的忽略标记（ignore_index），表示不计算 loss。\n",
        "    # 例如：\n",
        "    # input_ids = [1, 2, 3, 4, 5, 6, 7]  # 用户:1-4, 助手:5-7\n",
        "    # labels    = [-100, -100, -100, -100, 5, 6, 7]  # 只计算5-7的损失\n",
        "    labels = [-100] * len(instruction[\"input_ids\"]) + response[\"input_ids\"]\n",
        "    # 如果超出最大长度，则统一截断到 MAX_LENGTH\n",
        "    if len(input_ids) > MAX_LENGTH:\n",
        "        input_ids = input_ids[:MAX_LENGTH]\n",
        "        attention_mask = attention_mask[:MAX_LENGTH]\n",
        "        labels = labels[:MAX_LENGTH]\n",
        "    return {\n",
        "        \"input_ids\": input_ids,\n",
        "        \"attention_mask\": attention_mask,\n",
        "        \"labels\": labels\n",
        "    }"
      ]
    },
    {
      "cell_type": "code",
      "execution_count": 14,
      "id": "2bc5ed30-77a8-481f-a036-a8a1f9402c9e",
      "metadata": {
        "colab": {
          "base_uri": "https://localhost:8080/",
          "height": 120,
          "referenced_widgets": [
            "38c2cbec8ba644ecad5147b61ac38a64",
            "9602a140cafd4eb8a7bfc8f0ec13258a",
            "b660f2fb0a7e4bbdb87e555278cc9f08",
            "ee91d9397c594fc39437febc0a93ce8e",
            "32ad6698defe42bfb87a0696c4cc9ee1",
            "5089e1c946d542659a261c20495fbb8e",
            "6ea26b8d85ca45f5b39fc7ffb7ae0b9f",
            "4b820da8a2474abfaddfcee5e42babff",
            "dd695d9b2ce340aebd5d3835fde5a0f8",
            "bed30954a2514bc499d799fc9b47382c",
            "38b4522abc8047b6bb50917ad6671aec"
          ]
        },
        "id": "2bc5ed30-77a8-481f-a036-a8a1f9402c9e",
        "outputId": "db76f2be-bdd0-486b-fd63-e634072cf6a7"
      },
      "outputs": [
        {
          "output_type": "display_data",
          "data": {
            "text/plain": [
              "Map:   0%|          | 0/48818 [00:00<?, ? examples/s]"
            ],
            "application/vnd.jupyter.widget-view+json": {
              "version_major": 2,
              "version_minor": 0,
              "model_id": "38c2cbec8ba644ecad5147b61ac38a64"
            }
          },
          "metadata": {}
        },
        {
          "output_type": "execute_result",
          "data": {
            "text/plain": [
              "Dataset({\n",
              "    features: ['input_ids', 'attention_mask', 'labels'],\n",
              "    num_rows: 48818\n",
              "})"
            ]
          },
          "metadata": {},
          "execution_count": 14
        }
      ],
      "source": [
        "tokenized_ds = ds.map(process_func, remove_columns=ds.column_names)\n",
        "tokenized_ds"
      ]
    },
    {
      "cell_type": "code",
      "source": [
        "# 查看第 3 条样本\n",
        "tokenized_ds[2]"
      ],
      "metadata": {
        "colab": {
          "base_uri": "https://localhost:8080/"
        },
        "id": "CTgCircKt97r",
        "outputId": "7bed334a-6d19-495b-9c54-a073c93b64cd"
      },
      "id": "CTgCircKt97r",
      "execution_count": 15,
      "outputs": [
        {
          "output_type": "execute_result",
          "data": {
            "text/plain": [
              "{'input_ids': [26283,\n",
              "  29,\n",
              "  210,\n",
              "  10096,\n",
              "  1742,\n",
              "  8328,\n",
              "  7241,\n",
              "  672,\n",
              "  189,\n",
              "  4340,\n",
              "  17245,\n",
              "  29,\n",
              "  210,\n",
              "  11392,\n",
              "  584,\n",
              "  10009,\n",
              "  15139,\n",
              "  7066,\n",
              "  355,\n",
              "  1954,\n",
              "  1321,\n",
              "  25020,\n",
              "  5099,\n",
              "  23972,\n",
              "  7720,\n",
              "  1038,\n",
              "  2993,\n",
              "  1020,\n",
              "  554,\n",
              "  655,\n",
              "  27702,\n",
              "  7964,\n",
              "  420,\n",
              "  2993,\n",
              "  1020,\n",
              "  24405,\n",
              "  1020,\n",
              "  6454,\n",
              "  11392,\n",
              "  3317,\n",
              "  355,\n",
              "  5699,\n",
              "  11392,\n",
              "  3669,\n",
              "  355,\n",
              "  3317,\n",
              "  13589,\n",
              "  7964,\n",
              "  22273,\n",
              "  2282,\n",
              "  11392,\n",
              "  3317,\n",
              "  6053,\n",
              "  672,\n",
              "  189,\n",
              "  11392,\n",
              "  7241,\n",
              "  5140,\n",
              "  25008,\n",
              "  1237,\n",
              "  420,\n",
              "  11392,\n",
              "  3317,\n",
              "  655,\n",
              "  355,\n",
              "  2993,\n",
              "  1020,\n",
              "  3099,\n",
              "  1395,\n",
              "  1936,\n",
              "  355,\n",
              "  39089,\n",
              "  643,\n",
              "  3099,\n",
              "  1936,\n",
              "  928,\n",
              "  27810,\n",
              "  927,\n",
              "  420,\n",
              "  11392,\n",
              "  3317,\n",
              "  4433,\n",
              "  1225,\n",
              "  2409,\n",
              "  2880,\n",
              "  3211,\n",
              "  355,\n",
              "  24588,\n",
              "  658,\n",
              "  11392,\n",
              "  2333,\n",
              "  8554,\n",
              "  373,\n",
              "  41727,\n",
              "  420,\n",
              "  7964,\n",
              "  3099,\n",
              "  4002,\n",
              "  1936,\n",
              "  355,\n",
              "  6770,\n",
              "  22273,\n",
              "  3317,\n",
              "  6053,\n",
              "  355,\n",
              "  6454,\n",
              "  11915,\n",
              "  25008,\n",
              "  355,\n",
              "  9833,\n",
              "  15953,\n",
              "  4673,\n",
              "  1326,\n",
              "  7964,\n",
              "  4673,\n",
              "  420,\n",
              "  7964,\n",
              "  10162,\n",
              "  1235,\n",
              "  2993,\n",
              "  1020,\n",
              "  10162,\n",
              "  32775,\n",
              "  355,\n",
              "  1408,\n",
              "  11392,\n",
              "  8168,\n",
              "  1936,\n",
              "  27810,\n",
              "  672,\n",
              "  189,\n",
              "  7964,\n",
              "  587,\n",
              "  9993,\n",
              "  15953,\n",
              "  4673,\n",
              "  33629,\n",
              "  8168,\n",
              "  22003,\n",
              "  10740,\n",
              "  355,\n",
              "  6187,\n",
              "  3657,\n",
              "  15953,\n",
              "  4673,\n",
              "  27878,\n",
              "  30494,\n",
              "  373,\n",
              "  7964,\n",
              "  1715,\n",
              "  1049,\n",
              "  3657,\n",
              "  420,\n",
              "  587,\n",
              "  1277,\n",
              "  27464,\n",
              "  15953,\n",
              "  4673,\n",
              "  3993,\n",
              "  8601,\n",
              "  30494,\n",
              "  16852,\n",
              "  7964,\n",
              "  355,\n",
              "  20615,\n",
              "  30581,\n",
              "  13928,\n",
              "  904,\n",
              "  30494,\n",
              "  27602,\n",
              "  7964,\n",
              "  355,\n",
              "  2188,\n",
              "  2740,\n",
              "  13589,\n",
              "  15953,\n",
              "  4673,\n",
              "  904,\n",
              "  30494,\n",
              "  373,\n",
              "  7964,\n",
              "  1715,\n",
              "  5483,\n",
              "  4673,\n",
              "  11897,\n",
              "  2576,\n",
              "  672,\n",
              "  189,\n",
              "  11392,\n",
              "  3317,\n",
              "  3032,\n",
              "  5314,\n",
              "  13217,\n",
              "  33030,\n",
              "  8542,\n",
              "  3916,\n",
              "  1038,\n",
              "  2345,\n",
              "  19112,\n",
              "  28637,\n",
              "  1276,\n",
              "  420,\n",
              "  2345,\n",
              "  8542,\n",
              "  4525,\n",
              "  6438,\n",
              "  4433,\n",
              "  1225,\n",
              "  355,\n",
              "  3032,\n",
              "  7541,\n",
              "  587,\n",
              "  11392,\n",
              "  3317,\n",
              "  1570,\n",
              "  355,\n",
              "  5140,\n",
              "  3889,\n",
              "  19303,\n",
              "  11560,\n",
              "  4525,\n",
              "  355,\n",
              "  1408,\n",
              "  3317,\n",
              "  37026,\n",
              "  2993,\n",
              "  1020,\n",
              "  24405,\n",
              "  1020,\n",
              "  927,\n",
              "  28120,\n",
              "  10770,\n",
              "  10919,\n",
              "  420,\n",
              "  28637,\n",
              "  8542,\n",
              "  4525,\n",
              "  6438,\n",
              "  21902,\n",
              "  355,\n",
              "  3032,\n",
              "  2867,\n",
              "  3317,\n",
              "  13589,\n",
              "  7964,\n",
              "  1235,\n",
              "  11392,\n",
              "  3317,\n",
              "  33030,\n",
              "  355,\n",
              "  36018,\n",
              "  672,\n",
              "  189,\n",
              "  14076,\n",
              "  1742,\n",
              "  8328],\n",
              " 'attention_mask': [1,\n",
              "  1,\n",
              "  1,\n",
              "  1,\n",
              "  1,\n",
              "  1,\n",
              "  1,\n",
              "  1,\n",
              "  1,\n",
              "  1,\n",
              "  1,\n",
              "  1,\n",
              "  1,\n",
              "  1,\n",
              "  1,\n",
              "  1,\n",
              "  1,\n",
              "  1,\n",
              "  1,\n",
              "  1,\n",
              "  1,\n",
              "  1,\n",
              "  1,\n",
              "  1,\n",
              "  1,\n",
              "  1,\n",
              "  1,\n",
              "  1,\n",
              "  1,\n",
              "  1,\n",
              "  1,\n",
              "  1,\n",
              "  1,\n",
              "  1,\n",
              "  1,\n",
              "  1,\n",
              "  1,\n",
              "  1,\n",
              "  1,\n",
              "  1,\n",
              "  1,\n",
              "  1,\n",
              "  1,\n",
              "  1,\n",
              "  1,\n",
              "  1,\n",
              "  1,\n",
              "  1,\n",
              "  1,\n",
              "  1,\n",
              "  1,\n",
              "  1,\n",
              "  1,\n",
              "  1,\n",
              "  1,\n",
              "  1,\n",
              "  1,\n",
              "  1,\n",
              "  1,\n",
              "  1,\n",
              "  1,\n",
              "  1,\n",
              "  1,\n",
              "  1,\n",
              "  1,\n",
              "  1,\n",
              "  1,\n",
              "  1,\n",
              "  1,\n",
              "  1,\n",
              "  1,\n",
              "  1,\n",
              "  1,\n",
              "  1,\n",
              "  1,\n",
              "  1,\n",
              "  1,\n",
              "  1,\n",
              "  1,\n",
              "  1,\n",
              "  1,\n",
              "  1,\n",
              "  1,\n",
              "  1,\n",
              "  1,\n",
              "  1,\n",
              "  1,\n",
              "  1,\n",
              "  1,\n",
              "  1,\n",
              "  1,\n",
              "  1,\n",
              "  1,\n",
              "  1,\n",
              "  1,\n",
              "  1,\n",
              "  1,\n",
              "  1,\n",
              "  1,\n",
              "  1,\n",
              "  1,\n",
              "  1,\n",
              "  1,\n",
              "  1,\n",
              "  1,\n",
              "  1,\n",
              "  1,\n",
              "  1,\n",
              "  1,\n",
              "  1,\n",
              "  1,\n",
              "  1,\n",
              "  1,\n",
              "  1,\n",
              "  1,\n",
              "  1,\n",
              "  1,\n",
              "  1,\n",
              "  1,\n",
              "  1,\n",
              "  1,\n",
              "  1,\n",
              "  1,\n",
              "  1,\n",
              "  1,\n",
              "  1,\n",
              "  1,\n",
              "  1,\n",
              "  1,\n",
              "  1,\n",
              "  1,\n",
              "  1,\n",
              "  1,\n",
              "  1,\n",
              "  1,\n",
              "  1,\n",
              "  1,\n",
              "  1,\n",
              "  1,\n",
              "  1,\n",
              "  1,\n",
              "  1,\n",
              "  1,\n",
              "  1,\n",
              "  1,\n",
              "  1,\n",
              "  1,\n",
              "  1,\n",
              "  1,\n",
              "  1,\n",
              "  1,\n",
              "  1,\n",
              "  1,\n",
              "  1,\n",
              "  1,\n",
              "  1,\n",
              "  1,\n",
              "  1,\n",
              "  1,\n",
              "  1,\n",
              "  1,\n",
              "  1,\n",
              "  1,\n",
              "  1,\n",
              "  1,\n",
              "  1,\n",
              "  1,\n",
              "  1,\n",
              "  1,\n",
              "  1,\n",
              "  1,\n",
              "  1,\n",
              "  1,\n",
              "  1,\n",
              "  1,\n",
              "  1,\n",
              "  1,\n",
              "  1,\n",
              "  1,\n",
              "  1,\n",
              "  1,\n",
              "  1,\n",
              "  1,\n",
              "  1,\n",
              "  1,\n",
              "  1,\n",
              "  1,\n",
              "  1,\n",
              "  1,\n",
              "  1,\n",
              "  1,\n",
              "  1,\n",
              "  1,\n",
              "  1,\n",
              "  1,\n",
              "  1,\n",
              "  1,\n",
              "  1,\n",
              "  1,\n",
              "  1,\n",
              "  1,\n",
              "  1,\n",
              "  1,\n",
              "  1,\n",
              "  1,\n",
              "  1,\n",
              "  1,\n",
              "  1,\n",
              "  1,\n",
              "  1,\n",
              "  1,\n",
              "  1,\n",
              "  1,\n",
              "  1,\n",
              "  1,\n",
              "  1,\n",
              "  1,\n",
              "  1,\n",
              "  1,\n",
              "  1,\n",
              "  1,\n",
              "  1,\n",
              "  1,\n",
              "  1,\n",
              "  1,\n",
              "  1,\n",
              "  1,\n",
              "  1,\n",
              "  1,\n",
              "  1,\n",
              "  1,\n",
              "  1,\n",
              "  1,\n",
              "  1,\n",
              "  1,\n",
              "  1,\n",
              "  1,\n",
              "  1,\n",
              "  1,\n",
              "  1,\n",
              "  1,\n",
              "  1,\n",
              "  1,\n",
              "  1,\n",
              "  1,\n",
              "  1,\n",
              "  1,\n",
              "  1,\n",
              "  1,\n",
              "  1,\n",
              "  1,\n",
              "  1,\n",
              "  1,\n",
              "  1,\n",
              "  1,\n",
              "  1],\n",
              " 'labels': [-100,\n",
              "  -100,\n",
              "  -100,\n",
              "  -100,\n",
              "  -100,\n",
              "  -100,\n",
              "  -100,\n",
              "  -100,\n",
              "  -100,\n",
              "  -100,\n",
              "  -100,\n",
              "  -100,\n",
              "  -100,\n",
              "  11392,\n",
              "  584,\n",
              "  10009,\n",
              "  15139,\n",
              "  7066,\n",
              "  355,\n",
              "  1954,\n",
              "  1321,\n",
              "  25020,\n",
              "  5099,\n",
              "  23972,\n",
              "  7720,\n",
              "  1038,\n",
              "  2993,\n",
              "  1020,\n",
              "  554,\n",
              "  655,\n",
              "  27702,\n",
              "  7964,\n",
              "  420,\n",
              "  2993,\n",
              "  1020,\n",
              "  24405,\n",
              "  1020,\n",
              "  6454,\n",
              "  11392,\n",
              "  3317,\n",
              "  355,\n",
              "  5699,\n",
              "  11392,\n",
              "  3669,\n",
              "  355,\n",
              "  3317,\n",
              "  13589,\n",
              "  7964,\n",
              "  22273,\n",
              "  2282,\n",
              "  11392,\n",
              "  3317,\n",
              "  6053,\n",
              "  672,\n",
              "  189,\n",
              "  11392,\n",
              "  7241,\n",
              "  5140,\n",
              "  25008,\n",
              "  1237,\n",
              "  420,\n",
              "  11392,\n",
              "  3317,\n",
              "  655,\n",
              "  355,\n",
              "  2993,\n",
              "  1020,\n",
              "  3099,\n",
              "  1395,\n",
              "  1936,\n",
              "  355,\n",
              "  39089,\n",
              "  643,\n",
              "  3099,\n",
              "  1936,\n",
              "  928,\n",
              "  27810,\n",
              "  927,\n",
              "  420,\n",
              "  11392,\n",
              "  3317,\n",
              "  4433,\n",
              "  1225,\n",
              "  2409,\n",
              "  2880,\n",
              "  3211,\n",
              "  355,\n",
              "  24588,\n",
              "  658,\n",
              "  11392,\n",
              "  2333,\n",
              "  8554,\n",
              "  373,\n",
              "  41727,\n",
              "  420,\n",
              "  7964,\n",
              "  3099,\n",
              "  4002,\n",
              "  1936,\n",
              "  355,\n",
              "  6770,\n",
              "  22273,\n",
              "  3317,\n",
              "  6053,\n",
              "  355,\n",
              "  6454,\n",
              "  11915,\n",
              "  25008,\n",
              "  355,\n",
              "  9833,\n",
              "  15953,\n",
              "  4673,\n",
              "  1326,\n",
              "  7964,\n",
              "  4673,\n",
              "  420,\n",
              "  7964,\n",
              "  10162,\n",
              "  1235,\n",
              "  2993,\n",
              "  1020,\n",
              "  10162,\n",
              "  32775,\n",
              "  355,\n",
              "  1408,\n",
              "  11392,\n",
              "  8168,\n",
              "  1936,\n",
              "  27810,\n",
              "  672,\n",
              "  189,\n",
              "  7964,\n",
              "  587,\n",
              "  9993,\n",
              "  15953,\n",
              "  4673,\n",
              "  33629,\n",
              "  8168,\n",
              "  22003,\n",
              "  10740,\n",
              "  355,\n",
              "  6187,\n",
              "  3657,\n",
              "  15953,\n",
              "  4673,\n",
              "  27878,\n",
              "  30494,\n",
              "  373,\n",
              "  7964,\n",
              "  1715,\n",
              "  1049,\n",
              "  3657,\n",
              "  420,\n",
              "  587,\n",
              "  1277,\n",
              "  27464,\n",
              "  15953,\n",
              "  4673,\n",
              "  3993,\n",
              "  8601,\n",
              "  30494,\n",
              "  16852,\n",
              "  7964,\n",
              "  355,\n",
              "  20615,\n",
              "  30581,\n",
              "  13928,\n",
              "  904,\n",
              "  30494,\n",
              "  27602,\n",
              "  7964,\n",
              "  355,\n",
              "  2188,\n",
              "  2740,\n",
              "  13589,\n",
              "  15953,\n",
              "  4673,\n",
              "  904,\n",
              "  30494,\n",
              "  373,\n",
              "  7964,\n",
              "  1715,\n",
              "  5483,\n",
              "  4673,\n",
              "  11897,\n",
              "  2576,\n",
              "  672,\n",
              "  189,\n",
              "  11392,\n",
              "  3317,\n",
              "  3032,\n",
              "  5314,\n",
              "  13217,\n",
              "  33030,\n",
              "  8542,\n",
              "  3916,\n",
              "  1038,\n",
              "  2345,\n",
              "  19112,\n",
              "  28637,\n",
              "  1276,\n",
              "  420,\n",
              "  2345,\n",
              "  8542,\n",
              "  4525,\n",
              "  6438,\n",
              "  4433,\n",
              "  1225,\n",
              "  355,\n",
              "  3032,\n",
              "  7541,\n",
              "  587,\n",
              "  11392,\n",
              "  3317,\n",
              "  1570,\n",
              "  355,\n",
              "  5140,\n",
              "  3889,\n",
              "  19303,\n",
              "  11560,\n",
              "  4525,\n",
              "  355,\n",
              "  1408,\n",
              "  3317,\n",
              "  37026,\n",
              "  2993,\n",
              "  1020,\n",
              "  24405,\n",
              "  1020,\n",
              "  927,\n",
              "  28120,\n",
              "  10770,\n",
              "  10919,\n",
              "  420,\n",
              "  28637,\n",
              "  8542,\n",
              "  4525,\n",
              "  6438,\n",
              "  21902,\n",
              "  355,\n",
              "  3032,\n",
              "  2867,\n",
              "  3317,\n",
              "  13589,\n",
              "  7964,\n",
              "  1235,\n",
              "  11392,\n",
              "  3317,\n",
              "  33030,\n",
              "  355,\n",
              "  36018,\n",
              "  672,\n",
              "  189,\n",
              "  14076,\n",
              "  1742,\n",
              "  8328]}"
            ]
          },
          "metadata": {},
          "execution_count": 15
        }
      ]
    },
    {
      "cell_type": "code",
      "execution_count": 17,
      "id": "a356dd2b-a186-4079-95b4-3185b1df149c",
      "metadata": {
        "colab": {
          "base_uri": "https://localhost:8080/",
          "height": 125
        },
        "id": "a356dd2b-a186-4079-95b4-3185b1df149c",
        "outputId": "b7fbfbf2-9ac0-4799-ac86-ecc3b94c8895"
      },
      "outputs": [
        {
          "output_type": "execute_result",
          "data": {
            "text/plain": [
              "'Human: 三原色是什么？\\n\\nAssistant: 三原色通常指的是红色、绿色和蓝色（RGB）。它们是通过加色混合原理创建色彩的三种基础颜色。在以发光为基础的显示设备中（如电视、计算机显示器、智能手机和平板电脑显示屏）, 三原色可混合产生大量色彩。其中红色和绿色可以混合生成黄色，红色和蓝色可以混合生成品红色，蓝色和绿色可以混合生成青色。当红色、绿色和蓝色按相等比例混合时，可以产生白色或灰色。\\n\\n此外，在印刷和绘画中，三原色指的是以颜料为基础的红、黄和蓝颜色（RYB）。这三种颜色用以通过减色混合原理来创建色彩。不过，三原色的具体定义并不唯一，不同的颜色系统可能会采用不同的三原色。</s>'"
            ],
            "application/vnd.google.colaboratory.intrinsic+json": {
              "type": "string"
            }
          },
          "metadata": {},
          "execution_count": 17
        }
      ],
      "source": [
        "# 将 token ID 序列解码回原始文本\n",
        "tokenizer.decode(tokenized_ds[1][\"input_ids\"])"
      ]
    },
    {
      "cell_type": "code",
      "execution_count": 19,
      "id": "eea20bea-292a-47b9-9c27-74d3c1059862",
      "metadata": {
        "colab": {
          "base_uri": "https://localhost:8080/",
          "height": 125
        },
        "id": "eea20bea-292a-47b9-9c27-74d3c1059862",
        "outputId": "cbfa022a-0910-471c-af95-909bd59f4a2d"
      },
      "outputs": [
        {
          "output_type": "execute_result",
          "data": {
            "text/plain": [
              "'三原色通常指的是红色、绿色和蓝色（RGB）。它们是通过加色混合原理创建色彩的三种基础颜色。在以发光为基础的显示设备中（如电视、计算机显示器、智能手机和平板电脑显示屏）, 三原色可混合产生大量色彩。其中红色和绿色可以混合生成黄色，红色和蓝色可以混合生成品红色，蓝色和绿色可以混合生成青色。当红色、绿色和蓝色按相等比例混合时，可以产生白色或灰色。\\n\\n此外，在印刷和绘画中，三原色指的是以颜料为基础的红、黄和蓝颜色（RYB）。这三种颜色用以通过减色混合原理来创建色彩。不过，三原色的具体定义并不唯一，不同的颜色系统可能会采用不同的三原色。</s>'"
            ],
            "application/vnd.google.colaboratory.intrinsic+json": {
              "type": "string"
            }
          },
          "metadata": {},
          "execution_count": 19
        }
      ],
      "source": [
        "# 只解码回答的部分\n",
        "tokenizer.decode(list(filter(lambda x: x!=-100, tokenized_ds[1][\"labels\"])))"
      ]
    },
    {
      "cell_type": "code",
      "execution_count": 20,
      "id": "251c582d-86cf-4791-b67d-decbcf41c4b0",
      "metadata": {
        "colab": {
          "base_uri": "https://localhost:8080/"
        },
        "id": "251c582d-86cf-4791-b67d-decbcf41c4b0",
        "outputId": "3a5bc557-2e28-44ea-dc9b-43189ed7277f"
      },
      "outputs": [
        {
          "output_type": "execute_result",
          "data": {
            "text/plain": [
              "256"
            ]
          },
          "metadata": {},
          "execution_count": 20
        }
      ],
      "source": [
        "len(tokenized_ds[2][\"input_ids\"])"
      ]
    },
    {
      "cell_type": "code",
      "execution_count": 21,
      "id": "f91f1baf-f006-4d32-955f-4d3286acad52",
      "metadata": {
        "colab": {
          "base_uri": "https://localhost:8080/"
        },
        "id": "f91f1baf-f006-4d32-955f-4d3286acad52",
        "outputId": "63ca2b78-4e32-49f5-ec7f-cd34bed3a73d"
      },
      "outputs": [
        {
          "output_type": "execute_result",
          "data": {
            "text/plain": [
              "256"
            ]
          },
          "metadata": {},
          "execution_count": 21
        }
      ],
      "source": [
        "len(tokenized_ds[2][\"labels\"])"
      ]
    },
    {
      "cell_type": "markdown",
      "id": "cb0ae22a-5a3e-4b4a-bc6c-4c929c131386",
      "metadata": {
        "id": "cb0ae22a-5a3e-4b4a-bc6c-4c929c131386"
      },
      "source": [
        "# Step4 模型创建"
      ]
    },
    {
      "cell_type": "code",
      "execution_count": 25,
      "id": "90fc0071-1c73-4e3e-a44f-f7d141e3eb99",
      "metadata": {
        "id": "90fc0071-1c73-4e3e-a44f-f7d141e3eb99"
      },
      "outputs": [],
      "source": [
        "model = AutoModelForCausalLM.from_pretrained(\"Langboat/bloom-1b4-zh\", low_cpu_mem_usage=True).to(\"cuda\")"
      ]
    },
    {
      "cell_type": "code",
      "execution_count": 26,
      "id": "081731a5-3fce-4d08-a920-4563adfc300a",
      "metadata": {
        "colab": {
          "base_uri": "https://localhost:8080/"
        },
        "id": "081731a5-3fce-4d08-a920-4563adfc300a",
        "outputId": "ad63c78f-b704-4109-82ea-d31651706f62"
      },
      "outputs": [
        {
          "output_type": "execute_result",
          "data": {
            "text/plain": [
              "device(type='cuda', index=0)"
            ]
          },
          "metadata": {},
          "execution_count": 26
        }
      ],
      "source": [
        "model.device"
      ]
    },
    {
      "cell_type": "code",
      "execution_count": 27,
      "id": "ae4ee5ca-d541-4647-a662-46f64ae1cd23",
      "metadata": {
        "colab": {
          "base_uri": "https://localhost:8080/"
        },
        "id": "ae4ee5ca-d541-4647-a662-46f64ae1cd23",
        "outputId": "9e29d95f-c9f2-4f9b-8ada-948e0a153063"
      },
      "outputs": [
        {
          "output_type": "execute_result",
          "data": {
            "text/plain": [
              "BloomForCausalLM(\n",
              "  (transformer): BloomModel(\n",
              "    (word_embeddings): Embedding(46145, 2048)\n",
              "    (word_embeddings_layernorm): LayerNorm((2048,), eps=1e-05, elementwise_affine=True)\n",
              "    (h): ModuleList(\n",
              "      (0-23): 24 x BloomBlock(\n",
              "        (input_layernorm): LayerNorm((2048,), eps=1e-05, elementwise_affine=True)\n",
              "        (self_attention): BloomAttention(\n",
              "          (query_key_value): Linear(in_features=2048, out_features=6144, bias=True)\n",
              "          (dense): Linear(in_features=2048, out_features=2048, bias=True)\n",
              "          (attention_dropout): Dropout(p=0.0, inplace=False)\n",
              "        )\n",
              "        (post_attention_layernorm): LayerNorm((2048,), eps=1e-05, elementwise_affine=True)\n",
              "        (mlp): BloomMLP(\n",
              "          (dense_h_to_4h): Linear(in_features=2048, out_features=8192, bias=True)\n",
              "          (gelu_impl): BloomGelu()\n",
              "          (dense_4h_to_h): Linear(in_features=8192, out_features=2048, bias=True)\n",
              "        )\n",
              "      )\n",
              "    )\n",
              "    (ln_f): LayerNorm((2048,), eps=1e-05, elementwise_affine=True)\n",
              "  )\n",
              "  (lm_head): Linear(in_features=2048, out_features=46145, bias=False)\n",
              ")"
            ]
          },
          "metadata": {},
          "execution_count": 27
        }
      ],
      "source": [
        "model"
      ]
    },
    {
      "cell_type": "code",
      "execution_count": 28,
      "id": "ab2811cd-4d07-43de-9e0b-abddf247f723",
      "metadata": {
        "colab": {
          "base_uri": "https://localhost:8080/"
        },
        "id": "ab2811cd-4d07-43de-9e0b-abddf247f723",
        "outputId": "55b2c22c-4475-4b59-f509-30dd14df89a4"
      },
      "outputs": [
        {
          "output_type": "execute_result",
          "data": {
            "text/plain": [
              "1303111680"
            ]
          },
          "metadata": {},
          "execution_count": 28
        }
      ],
      "source": [
        "# 统计模型中所有参数的总数，也就是模型的参数量（parameter count）\n",
        "# model.parameters()：返回模型中所有可训练的参数张量（每个 param 是个 torch.Tensor）。\n",
        "# param.numel()：返回这个张量中包含的元素总数（即这个参数的维度乘积）。\n",
        "sum(param.numel() for param in model.parameters())"
      ]
    },
    {
      "cell_type": "markdown",
      "source": [
        "#### float32 存储需要4个字节\n",
        "\n",
        "model size: 1.3G * 4 ~= 5.2G\n",
        "\n",
        "\n",
        "#### 如果我们要去做全量的调参，还需求占用更多的显存\n",
        "\n",
        "SGD gradient: 1.3G * 4 ~= 5.2G\n",
        "\n",
        "with Momentum Optimizer: 1.3G * 4 ~= 5.2G\n",
        "\n",
        "with Adam Optimizer: 还会计算二阶的动量, 1.3G * 4 ~= 5.2G\n",
        "\n",
        "#### 总共\n",
        "\n",
        "1.3G * 4 * 4 ~= 20.8G"
      ],
      "metadata": {
        "id": "BRe3g7Dwwv-A"
      },
      "id": "BRe3g7Dwwv-A"
    },
    {
      "cell_type": "markdown",
      "id": "35dc8865-4fb5-437b-a065-ef7771e5285e",
      "metadata": {
        "id": "35dc8865-4fb5-437b-a065-ef7771e5285e"
      },
      "source": [
        "# BitFit"
      ]
    },
    {
      "cell_type": "code",
      "execution_count": 29,
      "id": "bedade00-c206-40a8-8ffb-da15a93b6e6a",
      "metadata": {
        "colab": {
          "base_uri": "https://localhost:8080/"
        },
        "id": "bedade00-c206-40a8-8ffb-da15a93b6e6a",
        "outputId": "2719ae11-cd76-4191-eb2e-453f20fddd69"
      },
      "outputs": [
        {
          "output_type": "execute_result",
          "data": {
            "text/plain": [
              "544768"
            ]
          },
          "metadata": {},
          "execution_count": 29
        }
      ],
      "source": [
        "# Selective 选择模型参数里面的所有 bias 偏置项部分训练\n",
        "# 冻结模型中除了 bias 以外的所有参数，只保留 bias 参数可以训练，并计算 bias 参数的总数量。\n",
        "# 假设你有一个线性层（全连接层）：y = Wx + b\n",
        "# W 是权重（weights）矩阵，x 是输入，b 就是 bias（偏置项）\n",
        "\n",
        "num_param = 0\n",
        "for name, param in model.named_parameters():\n",
        "    if \"bias\" not in name:\n",
        "        # 参数进行冻结 frozen\n",
        "        param.requires_grad = False\n",
        "    else:\n",
        "        num_param += param.numel()\n",
        "\n",
        "num_param"
      ]
    },
    {
      "cell_type": "code",
      "execution_count": 30,
      "id": "f5492b7e-2c51-41b4-81fe-5a538f047771",
      "metadata": {
        "colab": {
          "base_uri": "https://localhost:8080/"
        },
        "id": "f5492b7e-2c51-41b4-81fe-5a538f047771",
        "outputId": "9cc15dfd-5027-4ced-88b6-7111460c1912"
      },
      "outputs": [
        {
          "output_type": "execute_result",
          "data": {
            "text/plain": [
              "0.000418051659240749"
            ]
          },
          "metadata": {},
          "execution_count": 30
        }
      ],
      "source": [
        "# 只是微调原来模型参数的 0.04%\n",
        "num_param / sum(param.numel() for param in model.parameters())"
      ]
    },
    {
      "cell_type": "markdown",
      "id": "25ea5ef7-7b39-42d2-b8c0-03902db9154e",
      "metadata": {
        "id": "25ea5ef7-7b39-42d2-b8c0-03902db9154e"
      },
      "source": [
        "# Step5 配置训练参数"
      ]
    },
    {
      "cell_type": "code",
      "source": [
        "import os\n",
        "print(\"CPU 逻辑核心数:\", os.cpu_count())  # 通常 Colab 显示 2-8 个（取决于分配的机器）"
      ],
      "metadata": {
        "id": "n4RO0tV9AsOw",
        "outputId": "bb2d8e2b-36fb-47cc-d599-4fb265a23b3e",
        "colab": {
          "base_uri": "https://localhost:8080/"
        }
      },
      "id": "n4RO0tV9AsOw",
      "execution_count": 37,
      "outputs": [
        {
          "output_type": "stream",
          "name": "stdout",
          "text": [
            "CPU 逻辑核心数: 12\n"
          ]
        }
      ]
    },
    {
      "cell_type": "code",
      "execution_count": 38,
      "id": "13d173fd-a29a-41dc-8a9b-7621ac62f4bb",
      "metadata": {
        "id": "13d173fd-a29a-41dc-8a9b-7621ac62f4bb"
      },
      "outputs": [],
      "source": [
        "# 训练时间 1 小时，大概使用了 1/8 的显存\n",
        "# args = TrainingArguments(\n",
        "#     output_dir=\"./chatbot\", # 输出文件夹存储模型的预测结果和模型文件 checkpoints\n",
        "#     per_device_train_batch_size=8, # 默认 8, 对于训练的时候每个 GPU 核或者 CPU 上面对应的一个批次的样本数\n",
        "#     gradient_accumulation_steps=1, # 默认 1, 在执行反向传播/更新参数之前, 对应梯度计算累积了多少次\n",
        "#     logging_steps=10, # 每隔 10 次迭代写一次日志\n",
        "#     num_train_epochs=1, # 整体上数据集让模型学习多少遍\n",
        "#     report_to=\"none\",  # 禁用 wandb / tensorboard / mlflow 等\n",
        "# )\n",
        "\n",
        "# 训练参数优化，假设使用 A100 GPU，大概使用了 1/2 的显存\n",
        "# 训练时间 30 分钟\n",
        "args = TrainingArguments(\n",
        "    output_dir=\"./chatbot\",\n",
        "    per_device_train_batch_size=16,      # 增大batch_size（A100 显存足够）\n",
        "    fp16=True,                          # ★ 启用混合精度（A100 的 FP16 性能极佳）\n",
        "    gradient_accumulation_steps=1,       # 禁用累积（直接用大 batch）\n",
        "    optim=\"adamw_torch_fused\",           # ★ 使用融合优化器（PyTorch 2.0+）\n",
        "    dataloader_num_workers=12,            # 多线程加载数据（根据 CPU 核心数调整）\n",
        "    torch_compile=True,                  # ★ 编译模型（加速计算图执行）\n",
        "    report_to=\"none\",  # 禁用 wandb / tensorboard / mlflow\n",
        ")"
      ]
    },
    {
      "cell_type": "markdown",
      "id": "2cb7c318-d2f2-4a2f-810b-470041ff7d90",
      "metadata": {
        "id": "2cb7c318-d2f2-4a2f-810b-470041ff7d90"
      },
      "source": [
        "# Step6 创建训练器"
      ]
    },
    {
      "cell_type": "code",
      "execution_count": 39,
      "id": "f84496fa-1ffa-42d1-9240-e485a557db03",
      "metadata": {
        "id": "f84496fa-1ffa-42d1-9240-e485a557db03"
      },
      "outputs": [],
      "source": [
        "# 虽然这里传的是 model，但是除了 bias 的参数都被冻结了\n",
        "trainer = Trainer(\n",
        "    model=model,\n",
        "    args=args,\n",
        "    train_dataset=tokenized_ds,\n",
        "    # DataCollatorForSeq2Seq 会在每个 batch 中自动对输入和标签进行 padding 和格式对齐，让你不用手动处理变长序列\n",
        "    data_collator=DataCollatorForSeq2Seq(tokenizer=tokenizer, padding=True)\n",
        ")"
      ]
    },
    {
      "cell_type": "code",
      "execution_count": null,
      "id": "3cc34ca8-1c92-4edd-8f0c-860aa2ebb49e",
      "metadata": {
        "colab": {
          "base_uri": "https://localhost:8080/",
          "height": 264
        },
        "id": "3cc34ca8-1c92-4edd-8f0c-860aa2ebb49e",
        "outputId": "16c6eeb2-66b1-4091-f787-83dbaf71586c"
      },
      "outputs": [
        {
          "output_type": "display_data",
          "data": {
            "text/plain": [
              "<IPython.core.display.HTML object>"
            ],
            "text/html": [
              "\n",
              "    <div>\n",
              "      \n",
              "      <progress value='3052' max='9156' style='width:300px; height:20px; vertical-align: middle;'></progress>\n",
              "      [3052/9156 11:53 < 23:48, 4.27 it/s, Epoch 1.00/3]\n",
              "    </div>\n",
              "    <table border=\"1\" class=\"dataframe\">\n",
              "  <thead>\n",
              " <tr style=\"text-align: left;\">\n",
              "      <th>Step</th>\n",
              "      <th>Training Loss</th>\n",
              "    </tr>\n",
              "  </thead>\n",
              "  <tbody>\n",
              "    <tr>\n",
              "      <td>500</td>\n",
              "      <td>2.129000</td>\n",
              "    </tr>\n",
              "    <tr>\n",
              "      <td>1000</td>\n",
              "      <td>2.118600</td>\n",
              "    </tr>\n",
              "    <tr>\n",
              "      <td>1500</td>\n",
              "      <td>2.102100</td>\n",
              "    </tr>\n",
              "    <tr>\n",
              "      <td>2000</td>\n",
              "      <td>2.096300</td>\n",
              "    </tr>\n",
              "    <tr>\n",
              "      <td>2500</td>\n",
              "      <td>2.093900</td>\n",
              "    </tr>\n",
              "    <tr>\n",
              "      <td>3000</td>\n",
              "      <td>2.081800</td>\n",
              "    </tr>\n",
              "  </tbody>\n",
              "</table><p>"
            ]
          },
          "metadata": {}
        }
      ],
      "source": [
        "trainer.train()"
      ]
    }
  ],
  "metadata": {
    "kernelspec": {
      "display_name": "Python 3",
      "name": "python3"
    },
    "language_info": {
      "codemirror_mode": {
        "name": "ipython",
        "version": 3
      },
      "file_extension": ".py",
      "mimetype": "text/x-python",
      "name": "python",
      "nbconvert_exporter": "python",
      "pygments_lexer": "ipython3",
      "version": "3.10.6"
    },
    "colab": {
      "provenance": [],
      "gpuType": "A100",
      "include_colab_link": true
    },
    "accelerator": "GPU",
    "widgets": {
      "application/vnd.jupyter.widget-state+json": {
        "d74d02511b1743858cb8cb551a1ea6ff": {
          "model_module": "@jupyter-widgets/controls",
          "model_name": "HBoxModel",
          "model_module_version": "1.5.0",
          "state": {
            "_dom_classes": [],
            "_model_module": "@jupyter-widgets/controls",
            "_model_module_version": "1.5.0",
            "_model_name": "HBoxModel",
            "_view_count": null,
            "_view_module": "@jupyter-widgets/controls",
            "_view_module_version": "1.5.0",
            "_view_name": "HBoxView",
            "box_style": "",
            "children": [
              "IPY_MODEL_e850f107bb9049c195aade84ca136580",
              "IPY_MODEL_edf07184351944208ac428589e8a26a0",
              "IPY_MODEL_b76a289ca7a7449e896af2595018e36b"
            ],
            "layout": "IPY_MODEL_2ca1ba1def624de6acfc31cfddd0583c"
          }
        },
        "e850f107bb9049c195aade84ca136580": {
          "model_module": "@jupyter-widgets/controls",
          "model_name": "HTMLModel",
          "model_module_version": "1.5.0",
          "state": {
            "_dom_classes": [],
            "_model_module": "@jupyter-widgets/controls",
            "_model_module_version": "1.5.0",
            "_model_name": "HTMLModel",
            "_view_count": null,
            "_view_module": "@jupyter-widgets/controls",
            "_view_module_version": "1.5.0",
            "_view_name": "HTMLView",
            "description": "",
            "description_tooltip": null,
            "layout": "IPY_MODEL_02112ec671f94fafaef3049fc1a89133",
            "placeholder": "​",
            "style": "IPY_MODEL_a12bf797b5be4ad3aefbb0509157a70f",
            "value": "Generating train split: "
          }
        },
        "edf07184351944208ac428589e8a26a0": {
          "model_module": "@jupyter-widgets/controls",
          "model_name": "FloatProgressModel",
          "model_module_version": "1.5.0",
          "state": {
            "_dom_classes": [],
            "_model_module": "@jupyter-widgets/controls",
            "_model_module_version": "1.5.0",
            "_model_name": "FloatProgressModel",
            "_view_count": null,
            "_view_module": "@jupyter-widgets/controls",
            "_view_module_version": "1.5.0",
            "_view_name": "ProgressView",
            "bar_style": "success",
            "description": "",
            "description_tooltip": null,
            "layout": "IPY_MODEL_03b74ab0f27f40a9abaa6095a019ef8d",
            "max": 1,
            "min": 0,
            "orientation": "horizontal",
            "style": "IPY_MODEL_0678e0173f1d466cb9ee9e97eb4a05b2",
            "value": 1
          }
        },
        "b76a289ca7a7449e896af2595018e36b": {
          "model_module": "@jupyter-widgets/controls",
          "model_name": "HTMLModel",
          "model_module_version": "1.5.0",
          "state": {
            "_dom_classes": [],
            "_model_module": "@jupyter-widgets/controls",
            "_model_module_version": "1.5.0",
            "_model_name": "HTMLModel",
            "_view_count": null,
            "_view_module": "@jupyter-widgets/controls",
            "_view_module_version": "1.5.0",
            "_view_name": "HTMLView",
            "description": "",
            "description_tooltip": null,
            "layout": "IPY_MODEL_d982a01c84e34157a48de8cdd2a82e78",
            "placeholder": "​",
            "style": "IPY_MODEL_b97e085bdeac4279b7295962f92ec147",
            "value": " 48818/0 [00:00&lt;00:00, 78859.24 examples/s]"
          }
        },
        "2ca1ba1def624de6acfc31cfddd0583c": {
          "model_module": "@jupyter-widgets/base",
          "model_name": "LayoutModel",
          "model_module_version": "1.2.0",
          "state": {
            "_model_module": "@jupyter-widgets/base",
            "_model_module_version": "1.2.0",
            "_model_name": "LayoutModel",
            "_view_count": null,
            "_view_module": "@jupyter-widgets/base",
            "_view_module_version": "1.2.0",
            "_view_name": "LayoutView",
            "align_content": null,
            "align_items": null,
            "align_self": null,
            "border": null,
            "bottom": null,
            "display": null,
            "flex": null,
            "flex_flow": null,
            "grid_area": null,
            "grid_auto_columns": null,
            "grid_auto_flow": null,
            "grid_auto_rows": null,
            "grid_column": null,
            "grid_gap": null,
            "grid_row": null,
            "grid_template_areas": null,
            "grid_template_columns": null,
            "grid_template_rows": null,
            "height": null,
            "justify_content": null,
            "justify_items": null,
            "left": null,
            "margin": null,
            "max_height": null,
            "max_width": null,
            "min_height": null,
            "min_width": null,
            "object_fit": null,
            "object_position": null,
            "order": null,
            "overflow": null,
            "overflow_x": null,
            "overflow_y": null,
            "padding": null,
            "right": null,
            "top": null,
            "visibility": null,
            "width": null
          }
        },
        "02112ec671f94fafaef3049fc1a89133": {
          "model_module": "@jupyter-widgets/base",
          "model_name": "LayoutModel",
          "model_module_version": "1.2.0",
          "state": {
            "_model_module": "@jupyter-widgets/base",
            "_model_module_version": "1.2.0",
            "_model_name": "LayoutModel",
            "_view_count": null,
            "_view_module": "@jupyter-widgets/base",
            "_view_module_version": "1.2.0",
            "_view_name": "LayoutView",
            "align_content": null,
            "align_items": null,
            "align_self": null,
            "border": null,
            "bottom": null,
            "display": null,
            "flex": null,
            "flex_flow": null,
            "grid_area": null,
            "grid_auto_columns": null,
            "grid_auto_flow": null,
            "grid_auto_rows": null,
            "grid_column": null,
            "grid_gap": null,
            "grid_row": null,
            "grid_template_areas": null,
            "grid_template_columns": null,
            "grid_template_rows": null,
            "height": null,
            "justify_content": null,
            "justify_items": null,
            "left": null,
            "margin": null,
            "max_height": null,
            "max_width": null,
            "min_height": null,
            "min_width": null,
            "object_fit": null,
            "object_position": null,
            "order": null,
            "overflow": null,
            "overflow_x": null,
            "overflow_y": null,
            "padding": null,
            "right": null,
            "top": null,
            "visibility": null,
            "width": null
          }
        },
        "a12bf797b5be4ad3aefbb0509157a70f": {
          "model_module": "@jupyter-widgets/controls",
          "model_name": "DescriptionStyleModel",
          "model_module_version": "1.5.0",
          "state": {
            "_model_module": "@jupyter-widgets/controls",
            "_model_module_version": "1.5.0",
            "_model_name": "DescriptionStyleModel",
            "_view_count": null,
            "_view_module": "@jupyter-widgets/base",
            "_view_module_version": "1.2.0",
            "_view_name": "StyleView",
            "description_width": ""
          }
        },
        "03b74ab0f27f40a9abaa6095a019ef8d": {
          "model_module": "@jupyter-widgets/base",
          "model_name": "LayoutModel",
          "model_module_version": "1.2.0",
          "state": {
            "_model_module": "@jupyter-widgets/base",
            "_model_module_version": "1.2.0",
            "_model_name": "LayoutModel",
            "_view_count": null,
            "_view_module": "@jupyter-widgets/base",
            "_view_module_version": "1.2.0",
            "_view_name": "LayoutView",
            "align_content": null,
            "align_items": null,
            "align_self": null,
            "border": null,
            "bottom": null,
            "display": null,
            "flex": null,
            "flex_flow": null,
            "grid_area": null,
            "grid_auto_columns": null,
            "grid_auto_flow": null,
            "grid_auto_rows": null,
            "grid_column": null,
            "grid_gap": null,
            "grid_row": null,
            "grid_template_areas": null,
            "grid_template_columns": null,
            "grid_template_rows": null,
            "height": null,
            "justify_content": null,
            "justify_items": null,
            "left": null,
            "margin": null,
            "max_height": null,
            "max_width": null,
            "min_height": null,
            "min_width": null,
            "object_fit": null,
            "object_position": null,
            "order": null,
            "overflow": null,
            "overflow_x": null,
            "overflow_y": null,
            "padding": null,
            "right": null,
            "top": null,
            "visibility": null,
            "width": "20px"
          }
        },
        "0678e0173f1d466cb9ee9e97eb4a05b2": {
          "model_module": "@jupyter-widgets/controls",
          "model_name": "ProgressStyleModel",
          "model_module_version": "1.5.0",
          "state": {
            "_model_module": "@jupyter-widgets/controls",
            "_model_module_version": "1.5.0",
            "_model_name": "ProgressStyleModel",
            "_view_count": null,
            "_view_module": "@jupyter-widgets/base",
            "_view_module_version": "1.2.0",
            "_view_name": "StyleView",
            "bar_color": null,
            "description_width": ""
          }
        },
        "d982a01c84e34157a48de8cdd2a82e78": {
          "model_module": "@jupyter-widgets/base",
          "model_name": "LayoutModel",
          "model_module_version": "1.2.0",
          "state": {
            "_model_module": "@jupyter-widgets/base",
            "_model_module_version": "1.2.0",
            "_model_name": "LayoutModel",
            "_view_count": null,
            "_view_module": "@jupyter-widgets/base",
            "_view_module_version": "1.2.0",
            "_view_name": "LayoutView",
            "align_content": null,
            "align_items": null,
            "align_self": null,
            "border": null,
            "bottom": null,
            "display": null,
            "flex": null,
            "flex_flow": null,
            "grid_area": null,
            "grid_auto_columns": null,
            "grid_auto_flow": null,
            "grid_auto_rows": null,
            "grid_column": null,
            "grid_gap": null,
            "grid_row": null,
            "grid_template_areas": null,
            "grid_template_columns": null,
            "grid_template_rows": null,
            "height": null,
            "justify_content": null,
            "justify_items": null,
            "left": null,
            "margin": null,
            "max_height": null,
            "max_width": null,
            "min_height": null,
            "min_width": null,
            "object_fit": null,
            "object_position": null,
            "order": null,
            "overflow": null,
            "overflow_x": null,
            "overflow_y": null,
            "padding": null,
            "right": null,
            "top": null,
            "visibility": null,
            "width": null
          }
        },
        "b97e085bdeac4279b7295962f92ec147": {
          "model_module": "@jupyter-widgets/controls",
          "model_name": "DescriptionStyleModel",
          "model_module_version": "1.5.0",
          "state": {
            "_model_module": "@jupyter-widgets/controls",
            "_model_module_version": "1.5.0",
            "_model_name": "DescriptionStyleModel",
            "_view_count": null,
            "_view_module": "@jupyter-widgets/base",
            "_view_module_version": "1.2.0",
            "_view_name": "StyleView",
            "description_width": ""
          }
        },
        "38c2cbec8ba644ecad5147b61ac38a64": {
          "model_module": "@jupyter-widgets/controls",
          "model_name": "HBoxModel",
          "model_module_version": "1.5.0",
          "state": {
            "_dom_classes": [],
            "_model_module": "@jupyter-widgets/controls",
            "_model_module_version": "1.5.0",
            "_model_name": "HBoxModel",
            "_view_count": null,
            "_view_module": "@jupyter-widgets/controls",
            "_view_module_version": "1.5.0",
            "_view_name": "HBoxView",
            "box_style": "",
            "children": [
              "IPY_MODEL_9602a140cafd4eb8a7bfc8f0ec13258a",
              "IPY_MODEL_b660f2fb0a7e4bbdb87e555278cc9f08",
              "IPY_MODEL_ee91d9397c594fc39437febc0a93ce8e"
            ],
            "layout": "IPY_MODEL_32ad6698defe42bfb87a0696c4cc9ee1"
          }
        },
        "9602a140cafd4eb8a7bfc8f0ec13258a": {
          "model_module": "@jupyter-widgets/controls",
          "model_name": "HTMLModel",
          "model_module_version": "1.5.0",
          "state": {
            "_dom_classes": [],
            "_model_module": "@jupyter-widgets/controls",
            "_model_module_version": "1.5.0",
            "_model_name": "HTMLModel",
            "_view_count": null,
            "_view_module": "@jupyter-widgets/controls",
            "_view_module_version": "1.5.0",
            "_view_name": "HTMLView",
            "description": "",
            "description_tooltip": null,
            "layout": "IPY_MODEL_5089e1c946d542659a261c20495fbb8e",
            "placeholder": "​",
            "style": "IPY_MODEL_6ea26b8d85ca45f5b39fc7ffb7ae0b9f",
            "value": "Map: 100%"
          }
        },
        "b660f2fb0a7e4bbdb87e555278cc9f08": {
          "model_module": "@jupyter-widgets/controls",
          "model_name": "FloatProgressModel",
          "model_module_version": "1.5.0",
          "state": {
            "_dom_classes": [],
            "_model_module": "@jupyter-widgets/controls",
            "_model_module_version": "1.5.0",
            "_model_name": "FloatProgressModel",
            "_view_count": null,
            "_view_module": "@jupyter-widgets/controls",
            "_view_module_version": "1.5.0",
            "_view_name": "ProgressView",
            "bar_style": "success",
            "description": "",
            "description_tooltip": null,
            "layout": "IPY_MODEL_4b820da8a2474abfaddfcee5e42babff",
            "max": 48818,
            "min": 0,
            "orientation": "horizontal",
            "style": "IPY_MODEL_dd695d9b2ce340aebd5d3835fde5a0f8",
            "value": 48818
          }
        },
        "ee91d9397c594fc39437febc0a93ce8e": {
          "model_module": "@jupyter-widgets/controls",
          "model_name": "HTMLModel",
          "model_module_version": "1.5.0",
          "state": {
            "_dom_classes": [],
            "_model_module": "@jupyter-widgets/controls",
            "_model_module_version": "1.5.0",
            "_model_name": "HTMLModel",
            "_view_count": null,
            "_view_module": "@jupyter-widgets/controls",
            "_view_module_version": "1.5.0",
            "_view_name": "HTMLView",
            "description": "",
            "description_tooltip": null,
            "layout": "IPY_MODEL_bed30954a2514bc499d799fc9b47382c",
            "placeholder": "​",
            "style": "IPY_MODEL_38b4522abc8047b6bb50917ad6671aec",
            "value": " 48818/48818 [00:36&lt;00:00, 1390.81 examples/s]"
          }
        },
        "32ad6698defe42bfb87a0696c4cc9ee1": {
          "model_module": "@jupyter-widgets/base",
          "model_name": "LayoutModel",
          "model_module_version": "1.2.0",
          "state": {
            "_model_module": "@jupyter-widgets/base",
            "_model_module_version": "1.2.0",
            "_model_name": "LayoutModel",
            "_view_count": null,
            "_view_module": "@jupyter-widgets/base",
            "_view_module_version": "1.2.0",
            "_view_name": "LayoutView",
            "align_content": null,
            "align_items": null,
            "align_self": null,
            "border": null,
            "bottom": null,
            "display": null,
            "flex": null,
            "flex_flow": null,
            "grid_area": null,
            "grid_auto_columns": null,
            "grid_auto_flow": null,
            "grid_auto_rows": null,
            "grid_column": null,
            "grid_gap": null,
            "grid_row": null,
            "grid_template_areas": null,
            "grid_template_columns": null,
            "grid_template_rows": null,
            "height": null,
            "justify_content": null,
            "justify_items": null,
            "left": null,
            "margin": null,
            "max_height": null,
            "max_width": null,
            "min_height": null,
            "min_width": null,
            "object_fit": null,
            "object_position": null,
            "order": null,
            "overflow": null,
            "overflow_x": null,
            "overflow_y": null,
            "padding": null,
            "right": null,
            "top": null,
            "visibility": null,
            "width": null
          }
        },
        "5089e1c946d542659a261c20495fbb8e": {
          "model_module": "@jupyter-widgets/base",
          "model_name": "LayoutModel",
          "model_module_version": "1.2.0",
          "state": {
            "_model_module": "@jupyter-widgets/base",
            "_model_module_version": "1.2.0",
            "_model_name": "LayoutModel",
            "_view_count": null,
            "_view_module": "@jupyter-widgets/base",
            "_view_module_version": "1.2.0",
            "_view_name": "LayoutView",
            "align_content": null,
            "align_items": null,
            "align_self": null,
            "border": null,
            "bottom": null,
            "display": null,
            "flex": null,
            "flex_flow": null,
            "grid_area": null,
            "grid_auto_columns": null,
            "grid_auto_flow": null,
            "grid_auto_rows": null,
            "grid_column": null,
            "grid_gap": null,
            "grid_row": null,
            "grid_template_areas": null,
            "grid_template_columns": null,
            "grid_template_rows": null,
            "height": null,
            "justify_content": null,
            "justify_items": null,
            "left": null,
            "margin": null,
            "max_height": null,
            "max_width": null,
            "min_height": null,
            "min_width": null,
            "object_fit": null,
            "object_position": null,
            "order": null,
            "overflow": null,
            "overflow_x": null,
            "overflow_y": null,
            "padding": null,
            "right": null,
            "top": null,
            "visibility": null,
            "width": null
          }
        },
        "6ea26b8d85ca45f5b39fc7ffb7ae0b9f": {
          "model_module": "@jupyter-widgets/controls",
          "model_name": "DescriptionStyleModel",
          "model_module_version": "1.5.0",
          "state": {
            "_model_module": "@jupyter-widgets/controls",
            "_model_module_version": "1.5.0",
            "_model_name": "DescriptionStyleModel",
            "_view_count": null,
            "_view_module": "@jupyter-widgets/base",
            "_view_module_version": "1.2.0",
            "_view_name": "StyleView",
            "description_width": ""
          }
        },
        "4b820da8a2474abfaddfcee5e42babff": {
          "model_module": "@jupyter-widgets/base",
          "model_name": "LayoutModel",
          "model_module_version": "1.2.0",
          "state": {
            "_model_module": "@jupyter-widgets/base",
            "_model_module_version": "1.2.0",
            "_model_name": "LayoutModel",
            "_view_count": null,
            "_view_module": "@jupyter-widgets/base",
            "_view_module_version": "1.2.0",
            "_view_name": "LayoutView",
            "align_content": null,
            "align_items": null,
            "align_self": null,
            "border": null,
            "bottom": null,
            "display": null,
            "flex": null,
            "flex_flow": null,
            "grid_area": null,
            "grid_auto_columns": null,
            "grid_auto_flow": null,
            "grid_auto_rows": null,
            "grid_column": null,
            "grid_gap": null,
            "grid_row": null,
            "grid_template_areas": null,
            "grid_template_columns": null,
            "grid_template_rows": null,
            "height": null,
            "justify_content": null,
            "justify_items": null,
            "left": null,
            "margin": null,
            "max_height": null,
            "max_width": null,
            "min_height": null,
            "min_width": null,
            "object_fit": null,
            "object_position": null,
            "order": null,
            "overflow": null,
            "overflow_x": null,
            "overflow_y": null,
            "padding": null,
            "right": null,
            "top": null,
            "visibility": null,
            "width": null
          }
        },
        "dd695d9b2ce340aebd5d3835fde5a0f8": {
          "model_module": "@jupyter-widgets/controls",
          "model_name": "ProgressStyleModel",
          "model_module_version": "1.5.0",
          "state": {
            "_model_module": "@jupyter-widgets/controls",
            "_model_module_version": "1.5.0",
            "_model_name": "ProgressStyleModel",
            "_view_count": null,
            "_view_module": "@jupyter-widgets/base",
            "_view_module_version": "1.2.0",
            "_view_name": "StyleView",
            "bar_color": null,
            "description_width": ""
          }
        },
        "bed30954a2514bc499d799fc9b47382c": {
          "model_module": "@jupyter-widgets/base",
          "model_name": "LayoutModel",
          "model_module_version": "1.2.0",
          "state": {
            "_model_module": "@jupyter-widgets/base",
            "_model_module_version": "1.2.0",
            "_model_name": "LayoutModel",
            "_view_count": null,
            "_view_module": "@jupyter-widgets/base",
            "_view_module_version": "1.2.0",
            "_view_name": "LayoutView",
            "align_content": null,
            "align_items": null,
            "align_self": null,
            "border": null,
            "bottom": null,
            "display": null,
            "flex": null,
            "flex_flow": null,
            "grid_area": null,
            "grid_auto_columns": null,
            "grid_auto_flow": null,
            "grid_auto_rows": null,
            "grid_column": null,
            "grid_gap": null,
            "grid_row": null,
            "grid_template_areas": null,
            "grid_template_columns": null,
            "grid_template_rows": null,
            "height": null,
            "justify_content": null,
            "justify_items": null,
            "left": null,
            "margin": null,
            "max_height": null,
            "max_width": null,
            "min_height": null,
            "min_width": null,
            "object_fit": null,
            "object_position": null,
            "order": null,
            "overflow": null,
            "overflow_x": null,
            "overflow_y": null,
            "padding": null,
            "right": null,
            "top": null,
            "visibility": null,
            "width": null
          }
        },
        "38b4522abc8047b6bb50917ad6671aec": {
          "model_module": "@jupyter-widgets/controls",
          "model_name": "DescriptionStyleModel",
          "model_module_version": "1.5.0",
          "state": {
            "_model_module": "@jupyter-widgets/controls",
            "_model_module_version": "1.5.0",
            "_model_name": "DescriptionStyleModel",
            "_view_count": null,
            "_view_module": "@jupyter-widgets/base",
            "_view_module_version": "1.2.0",
            "_view_name": "StyleView",
            "description_width": ""
          }
        }
      }
    }
  },
  "nbformat": 4,
  "nbformat_minor": 5
}