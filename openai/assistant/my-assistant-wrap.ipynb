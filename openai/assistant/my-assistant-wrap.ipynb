{
 "cells": [
  {
   "cell_type": "code",
   "execution_count": null,
   "metadata": {},
   "outputs": [],
   "source": [
    "pip install openai --upgrade"
   ]
  },
  {
   "cell_type": "code",
   "execution_count": 4,
   "metadata": {},
   "outputs": [],
   "source": [
    "import os\n",
    "import time\n",
    "api_key = os.getenv(\"OPENAI_API_KEY\")\n",
    "\n",
    "from openai import OpenAI"
   ]
  },
  {
   "cell_type": "code",
   "execution_count": 2,
   "metadata": {},
   "outputs": [],
   "source": [
    "client = OpenAI()\n",
    "\n",
    "assistant = client.beta.assistants.create(\n",
    "    name=\"Math Tutor\",\n",
    "    instructions=\"You are a helpful personal math tutor, Answer questions and show your work.\",\n",
    "    model=\"gpt-4-1106-preview\"\n",
    ")\n",
    "\n",
    "\n",
    "def submit_message(assistant_id, thread, user_message):\n",
    "    client.beta.threads.messages.create(\n",
    "        thread_id=thread.id,\n",
    "        role=\"user\",\n",
    "        content=user_message\n",
    "    )\n",
    "    return client.beta.threads.runs.create(thread_id=thread.id, assistant_id=assistant.id)\n",
    "\n",
    "def get_response(thread):\n",
    "    return client.beta.threads.messages.list(thread_id=thread.id, order=\"asc\")\n",
    "\n",
    "def create_thread_and_run(user_input):\n",
    "    thread = client.beta.threads.create()\n",
    "    run = submit_message(assistant.id, thread, user_input)\n",
    "    return thread, run\n",
    "\n",
    "def wait_on_run(run, thread):\n",
    "    while run.status == \"queued\" or run.status == \"in_progress\":\n",
    "        run = client.beta.threads.runs.retrieve(thread_id=thread.id, run_id=run.id)\n",
    "        time.sleep(0.5)\n",
    "    return run\n",
    "\n",
    "def pretty_print(message):\n",
    "    print(\"# Message\")\n",
    "    for m in message:\n",
    "        print(f\"{m.role}: {m.content[0].text.value}\")"
   ]
  },
  {
   "cell_type": "code",
   "execution_count": 5,
   "metadata": {},
   "outputs": [
    {
     "name": "stdout",
     "output_type": "stream",
     "text": [
      "# Message\n",
      "user: I need to solve this problem: 3x + 11 = 14, can you help me?\n",
      "assistant: Certainly! To solve the equation \\( 3x + 11 = 14 \\), you need to find the value of \\( x \\) that makes the equation true. Here are the steps to solve for \\( x \\):\n",
      "\n",
      "Step 1: Subtract 11 from both sides of the equation to isolate the term with \\( x \\) on one side.\n",
      "\\[ 3x + 11 - 11 = 14 - 11 \\]\n",
      "\\[ 3x = 3 \\]\n",
      "\n",
      "Step 2: Divide both sides of the equation by 3 to solve for \\( x \\).\n",
      "\\[ \\frac{3x}{3} = \\frac{3}{3} \\]\n",
      "\\[ x = 1 \\]\n",
      "\n",
      "Therefore, the solution is \\( x = 1 \\).\n",
      "# Message\n",
      "user: Could you explain linear algebra to me?\n",
      "assistant: Certainly! Linear algebra is the branch of mathematics concerning linear equations, linear functions, and their representations through matrices and vector spaces. It's a foundational subject in most fields of mathematics and is incredibly important in areas such as science, engineering, computer science, economics, and statistics because it deals with the concept of linear relationships, which are ubiquitous in real-world problems.\n",
      "\n",
      "Here's a rundown of some of the central concepts in linear algebra:\n",
      "\n",
      "**1. Vectors:** These are quantities that have both magnitude and direction. Vectors can represent physical quantities like force or velocity. In linear algebra, vectors are often represented as an ordered list of numbers (components), which define its position in space relative to a reference coordinate system.\n",
      "\n",
      "**2. Vector Spaces (or Linear Spaces):** A vector space is a set of vectors that can be added together and multiplied by scalars (numbers) to yield other vectors within the same set. The most common example is the Euclidean space, which includes the two-dimensional plane (R²) and three-dimensional space (R³).\n",
      "\n",
      "**3. Linear Equations and Systems:** Linear equations are ones which the highest power of the variable(s) is one. A system of linear equations is a set of equations that are solved simultaneously to find the values of the variables that satisfy all equations.\n",
      "\n",
      "**4. Matrices:** A matrix is a rectangular array of numbers, symbols, or expressions, arranged in rows and columns. Matrices are useful for representing and solving systems of linear equations, for performing linear transformations, and much more.\n",
      "\n",
      "**5. Matrix Operations:** There are several operations you can perform on matrices, like addition, subtraction, and most notably, multiplication. You can also scale a matrix by multiplying it by a number, which scales all the components of the matrix.\n",
      "\n",
      "**6. Linear Transformations:** These are functions between vector spaces that preserve the operations of vector addition and scalar multiplication. Matrices are often used to represent linear transformations since they can succinctly capture the function's action in terms of a basis for the vector space.\n",
      "\n",
      "**7. Determinants and Inverses:** The determinant is a scalar value that can be computed from the elements of a square matrix. The determinant can tell you things like whether a matrix is invertible or not, and if it has an inverse, it can be used to solve systems of linear equations.\n",
      "\n",
      "**8. Eigenvalues and Eigenvectors:** An eigenvector of a square matrix is a non-zero vector that only changes by a scalar factor when that linear transformation is applied. The scalar factor is known as the eigenvalue. This concept has many applications in differential equations, stability analysis, and many other areas.\n",
      "\n",
      "**9. Inner Product:** This is a generalization of the dot product and provides a way to define orthogonality and angles in vector spaces more abstract than R² and R³.\n",
      "\n",
      "**10. Orthogonality and Orthonormality:** Two vectors are orthogonal if their inner product is zero. An orthonormal set of vectors is an orthogonal set of vectors where each vector is of unit length.\n",
      "\n",
      "These concepts build on one another, and a deep understanding of linear algebra involves not only memorizing these definitions but also learning how they interact and can be applied to solve various problems. Moreover, abstract linear algebra deals with vector spaces that may have infinite dimensions and may not have a notion of distance or angle at all, which requires an even deeper level of understanding.\n",
      "# Message\n",
      "user: I don't like math, what can I do?\n"
     ]
    }
   ],
   "source": [
    "thread1, run1 = create_thread_and_run(\"I need to solve this problem: 3x + 11 = 14, can you help me?\")\n",
    "thread2, run2 = create_thread_and_run(\"Could you explain linear algebra to me?\")\n",
    "thread3, run3 = create_thread_and_run(\"I don't like math, what can I do?\")\n",
    "\n",
    "run1 = wait_on_run(run1, thread1)\n",
    "pretty_print(get_response(thread1))\n",
    "\n",
    "run2 = wait_on_run(run2, thread2)\n",
    "pretty_print(get_response(thread2))\n",
    "\n",
    "run3 = wait_on_run(run3, thread3)\n",
    "pretty_print(get_response(thread3))"
   ]
  },
  {
   "cell_type": "code",
   "execution_count": 7,
   "metadata": {},
   "outputs": [
    {
     "name": "stdout",
     "output_type": "stream",
     "text": [
      "# Message\n",
      "user: I don't like math, what can I do?\n",
      "user: Thank you!\n",
      "assistant: It's okay to feel that way; many people have challenges with math at different stages. Here are a few suggestions that can make math more approachable and perhaps turn it into a more positive experience for you:\n",
      "\n",
      "1. **Identify the Issue**: First, try to figure out what about math you dislike. Is it confusion, past bad experiences, difficulty with numbers, or perhaps test anxiety? Understanding the root cause can help in addressing it.\n",
      "\n",
      "2. **Practice Regularly**: Practice is crucial in math. Regularly practicing problems can help build confidence and improve your understanding.\n",
      "\n",
      "3. **Use Resources**: There are countless resources available, including online tutorials, apps, videos, and textbooks. Use them to find explanations and examples that resonate with you.\n",
      "\n",
      "4. **Interactive Learning**: Try to find interactive and engaging ways to learn math – such as games, puzzles, or websites that make learning math a more dynamic experience.\n",
      "\n",
      "5. **Study Groups**: Working with others can help you learn different ways to approach problems, and explaining concepts to peers can reinforce your own understanding.\n",
      "\n",
      "6. **Seek Help**: Don't be afraid to ask for help. A tutor, teacher, or a friend who is good at math could offer valuable assistance.\n",
      "\n",
      "7. **Connect Math to Real Life**: See how math is used in everyday life or in careers that interest you. Understanding its practical applications can make it more interesting.\n",
      "\n",
      "8. **Positive Mindset**: Try to develop a more positive mindset about math. Instead of saying \"I don't like math,\" try to think, \"I haven't liked math yet.\" Give yourself room to grow.\n",
      "\n",
      "9. **Set Goals**: Set small, achievable goals for your math skills. Reward yourself when you meet them.\n",
      "\n",
      "10. **Patience and Persistence**: Don't expect to change your feelings overnight. Be patient with yourself and persistent in your efforts.\n",
      "\n",
      "Remember, math is a skill that can be improved with time and effort, regardless of past experiences. It's perfectly fine to need time and assistance to get better at it, and it's absolutely possible to find aspects of math that you may enjoy or at least feel more confident in dealing with.\n",
      "user: Thank you!\n",
      "assistant: You're welcome! If you ever have questions or need assistance with math, feel free to reach out. Remember that learning is a journey, and it's okay to take it one step at a time. Good luck, and don't hesitate to ask for help when you need it!\n"
     ]
    }
   ],
   "source": [
    "run4 = submit_message(assistant.id, thread3, \"Thank you!\")\n",
    "run4 = wait_on_run(run4, thread3)\n",
    "pretty_print(get_response(thread3))"
   ]
  }
 ],
 "metadata": {
  "kernelspec": {
   "display_name": "base",
   "language": "python",
   "name": "python3"
  },
  "language_info": {
   "codemirror_mode": {
    "name": "ipython",
    "version": 3
   },
   "file_extension": ".py",
   "mimetype": "text/x-python",
   "name": "python",
   "nbconvert_exporter": "python",
   "pygments_lexer": "ipython3",
   "version": "3.9.18"
  }
 },
 "nbformat": 4,
 "nbformat_minor": 2
}
